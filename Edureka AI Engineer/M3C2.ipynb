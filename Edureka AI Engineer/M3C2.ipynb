{
 "cells": [
  {
   "cell_type": "code",
   "execution_count": 13,
   "id": "2e05ca64-8b27-4919-aff1-9ba46b7da823",
   "metadata": {},
   "outputs": [],
   "source": [
    "#  Retrieve all tags starting from ‘@’ in the entire dataset and save in a file called  “References.txt” \n",
    "\n",
    "import nltk\n",
    "import re\n",
    "from nltk.tokenize import word_tokenize as wt\n",
    "import matplotlib.pyplot as plt\n",
    "import pandas as pd\n",
    "import numpy as np\n",
    "from collections import Counter\n",
    "from nltk.probability import FreqDist\n",
    "from itertools import cycle\n",
    "\n",
    "f = pd.read_csv(\"M3Tweets.csv\")\n",
    "list_of_texts = f[\"text\"].values.tolist()\n",
    "Rf = open(\"References.txt\", \"w\", encoding=\"utf-8\") #see encoding for text file utf-8\n",
    "for l in list_of_texts:\n",
    "    #print(l)\n",
    "    tokens = wt(l)\n",
    "    for id, t in enumerate(tokens):\n",
    "        x = re.findall(\"@\", t)\n",
    "        if x!=[]:\n",
    "            nextelem = tokens[(id + 1) % len(tokens)]\n",
    "            item = (\"@\" + nextelem + \"\\n\")\n",
    "            Rf.write(str(item))"
   ]
  },
  {
   "cell_type": "code",
   "execution_count": 1,
   "id": "a58342dd-16a6-4f08-91de-968d6e022b08",
   "metadata": {},
   "outputs": [],
   "source": [
    "# 2 \n",
    "# Extract all noun phrases from their dataset and save them in different lines in a file named \n",
    "# “Noun Phrases for <airline_sentiment> Review .txt” (You can choose your own grammar for noun phrase). \n",
    "# Here <airline_sentiment> will have 3 different values: positive, negative and neutral so 3 files will be created. \n",
    "\n",
    "import nltk\n",
    "import re\n",
    "from nltk.tokenize import word_tokenize as wt\n",
    "import matplotlib.pyplot as plt\n",
    "import numpy as np\n",
    "from collections import Counter\n",
    "from nltk.probability import FreqDist\n",
    "import pandas as pd\n",
    "\n",
    "def ChunkingVer3(doc):\n",
    "    tokens = wt(doc)\n",
    "    pos = nltk.pos_tag(tokens)\n",
    "    #print(pos)\n",
    "    grammar_pn = r\"dn: {<NN|NNS|NNP|NNPS><VB|VBD|VBG|VBN|VBP|VBZ>}\"\n",
    "    #r\"dv: {<VB|VBD|VBG|VBN|VBP|VBZ><JJ|JJR|JJS>}\"\n",
    "    chunk_parser = nltk.RegexpParser(grammar_pn)\n",
    "    chunk_result = chunk_parser.parse(pos)\n",
    "    #print(chunk_result)\n",
    "    for entity in chunk_result:\n",
    "        if hasattr(entity, \"label\"):\n",
    "            if(entity.label() == \"dn\"):\n",
    "                for id, e in enumerate(entity):\n",
    "                    nextitem = entity[(id + 1) % len(entity)]\n",
    "                    item = str(e[0]) + \" \" + str(nextitem[0]) #This will change with respect to defined grammar above\n",
    "                    return(item)\n",
    "                    break;\n",
    "    \n",
    "                    \n",
    "f = pd.read_csv(\"M3Tweets.csv\")\n",
    "list_of_texts = f[\"text\"].values.tolist()\n",
    "list_of_sentiments = f[\"airline_sentiment\"].values.tolist()\n",
    "fp = open(\"Noun Phrases for positive Review.txt\",'w', encoding=\"utf-8\")\n",
    "fn = open(\"Noun Phrases for negative Review.txt\",'w', encoding=\"utf-8\")\n",
    "fu = open(\"Noun Phrases for neutral Review.txt\",'w', encoding=\"utf-8\")\n",
    "counter = -1\n",
    "for t in list_of_texts:\n",
    "    counter = counter + 1\n",
    "    freq = str(ChunkingVer3(t)) # whenever you return a value from a function change it to str or int as required.\n",
    "    if (freq != \"None\"):\n",
    "        #print(freq, end = \" \")\n",
    "        #print(list_of_sentiments[counter])\n",
    "        if(list_of_sentiments[counter] == \"positive\"):\n",
    "            fp.write(freq + \"\\n\")\n",
    "        if(list_of_sentiments[counter] == \"negative\"):\n",
    "            fn.write(freq + \"\\n\")\n",
    "        if(list_of_sentiments[counter] == \"neutral\"):\n",
    "            fu.write(freq + \"\\n\")\n",
    "#doc.close()"
   ]
  },
  {
   "cell_type": "code",
   "execution_count": 1,
   "id": "10e46eb1-a5d2-47bf-8b3f-bcb26190ab72",
   "metadata": {},
   "outputs": [
    {
     "name": "stdout",
     "output_type": "stream",
     "text": [
      "('@', 'NN')\n",
      "('VirginAmerica', 'NNP')\n",
      "('What', 'WP')\n",
      "('@', 'NNP')\n",
      "('dhepburn', 'NN')\n",
      "('said', 'VBD')\n",
      "('.', '.')\n",
      "None\n"
     ]
    },
    {
     "ename": "NameError",
     "evalue": "name 'counter' is not defined",
     "output_type": "error",
     "traceback": [
      "\u001b[1;31m---------------------------------------------------------------------------\u001b[0m",
      "\u001b[1;31mNameError\u001b[0m                                 Traceback (most recent call last)",
      "Cell \u001b[1;32mIn[1], line 40\u001b[0m\n\u001b[0;32m     38\u001b[0m     freq \u001b[38;5;241m=\u001b[39m \u001b[38;5;28mstr\u001b[39m(ChunkingVer3(t))\n\u001b[0;32m     39\u001b[0m     \u001b[38;5;28mprint\u001b[39m(freq)\n\u001b[1;32m---> 40\u001b[0m     \u001b[38;5;28mprint\u001b[39m(list_of_sentiments[counter])\n\u001b[0;32m     41\u001b[0m \u001b[38;5;124;03m'''fp = open(\"Verb Phrases for positive Review1 .txt\",'w', encoding=\"utf-8\")\u001b[39;00m\n\u001b[0;32m     42\u001b[0m \u001b[38;5;124;03mfn = open(\"Verb Phrases for negative Review1 .txt\",'w', encoding=\"utf-8\")\u001b[39;00m\n\u001b[0;32m     43\u001b[0m \u001b[38;5;124;03mfu = open(\"Verb Phrases for neutral Review1 .txt\",'w', encoding=\"utf-8\")\u001b[39;00m\n\u001b[1;32m   (...)\u001b[0m\n\u001b[0;32m     55\u001b[0m \u001b[38;5;124;03m        if(list_of_sentiments[counter] == \"neutral\"):\u001b[39;00m\n\u001b[0;32m     56\u001b[0m \u001b[38;5;124;03m            fu.write(freq + \"\\n\")'''\u001b[39;00m\n",
      "\u001b[1;31mNameError\u001b[0m: name 'counter' is not defined"
     ]
    }
   ],
   "source": [
    "# 3\n",
    "# Extract all verb phrases from their dataset and save them in different lines in a file named \n",
    "# “Verb Phrases for <airline_sentiment> Review .txt” (You can choose your own grammar for noun phrase). \n",
    "# Here <airline_sentiment> will have 3 different values: positive, negative and neutral so 3 files will be created. \n",
    "\n",
    "import nltk\n",
    "import re\n",
    "from nltk.tokenize import word_tokenize as wt\n",
    "import matplotlib.pyplot as plt\n",
    "import numpy as np\n",
    "from collections import Counter\n",
    "from nltk.probability import FreqDist\n",
    "import pandas as pd\n",
    "\n",
    "def ChunkingVer3(doc):\n",
    "    tokens = wt(doc)\n",
    "    pos = nltk.pos_tag(tokens)\n",
    "    #print(pos)\n",
    "    grammar_pn = r\"dv: {<VB|VBD|VBG|VBN|VBP|VBZ><JJ|JJR|JJS>}\"\n",
    "    #r\"dn: {<NN|NNS|NNP|NNPS><VB|VBD|VBG|VBN|VBP|VBZ>}\"\n",
    "    chunk_parser = nltk.RegexpParser(grammar_pn)\n",
    "    chunk_result = chunk_parser.parse(pos)\n",
    "    #print(chunk_result)\n",
    "    for entity in chunk_result:\n",
    "        print(entity)\n",
    "        if hasattr(entity, \"label\"):\n",
    "            if(entity.label() == \"dv\"):\n",
    "                for id, e in enumerate(entity):\n",
    "                    nextitem = entity[(id + 1) % len(entity)]\n",
    "                    item = str(e[0]) + \" \" + str(nextitem[0]) #This will change with respect to defined grammar above\n",
    "                    return(item)\n",
    "                    break;\n",
    "                      \n",
    "f = pd.read_csv(\"M3Tweets.csv\")\n",
    "list_of_texts = f[\"text\"].values.tolist()\n",
    "list_of_sentiments = f[\"airline_sentiment\"].values.tolist()\n",
    "counter = -1\n",
    "'''for t in list_of_texts:\n",
    "    counter = counter + 1\n",
    "    freq = str(ChunkingVer3(t))\n",
    "    print(freq)\n",
    "    print(list_of_sentiments[counter])'''\n",
    "fp = open(\"Verb Phrases for positive Review.txt\",'w', encoding=\"utf-8\")\n",
    "fn = open(\"Verb Phrases for negative Review.txt\",'w', encoding=\"utf-8\")\n",
    "fu = open(\"Verb Phrases for neutral Review.txt\",'w', encoding=\"utf-8\")\n",
    "counter = -1\n",
    "for t in list_of_texts:\n",
    "    counter = counter + 1\n",
    "    freq = str(ChunkingVer3(t)) # whenever you return a value from a function change it to str or int as required.\n",
    "    if (freq != \"None\"):\n",
    "        #print(freq, end = \" \")\n",
    "        #print(list_of_sentiments[counter])\n",
    "        if(list_of_sentiments[counter] == \"positive\"):\n",
    "            fp.write(freq + \"\\n\")\n",
    "        if(list_of_sentiments[counter] == \"negative\"):\n",
    "            fn.write(freq + \"\\n\")\n",
    "        if(list_of_sentiments[counter] == \"neutral\"):\n",
    "            fu.write(freq + \"\\n\")\n",
    "#doc.close()"
   ]
  },
  {
   "cell_type": "code",
   "execution_count": 12,
   "id": "0209ac98-39f7-4ee7-8a64-139f4248a285",
   "metadata": {},
   "outputs": [
    {
     "name": "stdout",
     "output_type": "stream",
     "text": [
      "Noun Phrases Reviews\n",
      "Positive:  1003   Negative:  5798   Neutral:  1462\n"
     ]
    },
    {
     "data": {
      "image/png": "[encoded data removed]",
      "text/plain": [
       "<Figure size 640x480 with 1 Axes>"
      ]
     },
     "metadata": {},
     "output_type": "display_data"
    },
    {
     "name": "stdout",
     "output_type": "stream",
     "text": [
      "Verb Phrases Reviews\n",
      "Positive:  484   Negative:  2123   Neutral:  487\n"
     ]
    },
    {
     "data": {
      "image/png": "[encoded data removed]",
      "text/plain": [
       "<Figure size 640x480 with 1 Axes>"
      ]
     },
     "metadata": {},
     "output_type": "display_data"
    }
   ],
   "source": [
    "import nltk\n",
    "import re\n",
    "from nltk.tokenize import word_tokenize as wt\n",
    "import matplotlib.pyplot as plt\n",
    "import numpy as np\n",
    "from collections import Counter\n",
    "from nltk.probability import FreqDist\n",
    "import pandas as pd\n",
    "\n",
    "fp1 = open(\"Noun Phrases for positive Review .txt\",'r', encoding=\"utf-8\")\n",
    "fn1 = open(\"Noun Phrases for negative Review .txt\",'r', encoding=\"utf-8\")\n",
    "fu1 = open(\"Noun Phrases for neutral Review .txt\",'r', encoding=\"utf-8\")\n",
    "fp2 = open(\"Verb Phrases for positive Review .txt\",'r', encoding=\"utf-8\")\n",
    "fn2 = open(\"Verb Phrases for negative Review .txt\",'r', encoding=\"utf-8\")\n",
    "fu2 = open(\"Verb Phrases for neutral Review .txt\",'r', encoding=\"utf-8\")\n",
    "\n",
    "contents = fp1.read()\n",
    "fp1_l = contents.count('\\n')\n",
    "contents = fn1.read()\n",
    "fn1_l = contents.count('\\n')\n",
    "contents = fu1.read()\n",
    "fu1_l = contents.count('\\n')\n",
    "contents = fp2.read()\n",
    "fp2_l = contents.count('\\n')\n",
    "contents = fn2.read()\n",
    "fn2_l = contents.count('\\n')\n",
    "contents = fu2.read()\n",
    "fu2_l = contents.count('\\n')\n",
    "\n",
    "y_noun = np.array([fp1_l, fn1_l, fu1_l])\n",
    "my_noun = [\"Positive\", \"Negative\", \"Neutral\"]\n",
    "plt.pie(y_noun, labels = my_noun, shadow = True)\n",
    "print(\"Noun Phrases Reviews\")\n",
    "print(\"Positive: \", fp1_l, \" \",\"Negative: \", fn1_l, \" \",\"Neutral: \", fu1_l) \n",
    "plt.show()\n",
    "y_verb = np.array([fp2_l, fn2_l, fu2_l])\n",
    "my_verb = [\"Positive\", \"Negative\", \"Neutral\"]\n",
    "plt.pie(y_verb, labels = my_verb, shadow = True)\n",
    "print(\"Verb Phrases Reviews\")\n",
    "print(\"Positive: \", fp2_l, \" \",\"Negative: \", fn2_l, \" \",\"Neutral: \", fu2_l) \n",
    "plt.show()"
   ]
  },
  {
   "cell_type": "code",
   "execution_count": null,
   "id": "34d3502b-353b-45b6-b419-aef2807c50da",
   "metadata": {},
   "outputs": [],
   "source": []
  }
 ],
 "metadata": {
  "kernelspec": {
   "display_name": "Python 3 (ipykernel)",
   "language": "python",
   "name": "python3"
  },
  "language_info": {
   "codemirror_mode": {
    "name": "ipython",
    "version": 3
   },
   "file_extension": ".py",
   "mimetype": "text/x-python",
   "name": "python",
   "nbconvert_exporter": "python",
   "pygments_lexer": "ipython3",
   "version": "3.12.7"
  }
 },
 "nbformat": 4,
 "nbformat_minor": 5
}
