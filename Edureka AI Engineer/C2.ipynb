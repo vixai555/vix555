{
 "cells": [
  {
   "cell_type": "code",
   "execution_count": null,
   "id": "b812c679-10da-4158-99df-848c71407c7a",
   "metadata": {},
   "outputs": [],
   "source": [
    "import nltk"
   ]
  },
  {
   "cell_type": "code",
   "execution_count": null,
   "id": "c6fc5cc4-8389-400b-acda-e236de3c7f90",
   "metadata": {},
   "outputs": [],
   "source": [
    "print(dir(nltk.corpus))"
   ]
  },
  {
   "cell_type": "code",
   "execution_count": 5,
   "id": "dc5dc947-caba-4ac1-b8c1-c188960ad42f",
   "metadata": {},
   "outputs": [],
   "source": [
    "from nltk.corpus import twitter_samples"
   ]
  },
  {
   "cell_type": "code",
   "execution_count": 7,
   "id": "88b0a2b2-3fc2-44b0-91f6-4d70c7723113",
   "metadata": {},
   "outputs": [
    {
     "name": "stdout",
     "output_type": "stream",
     "text": [
      "<TwitterCorpusReader in '.../corpora/twitter_samples' (not loaded yet)>\n"
     ]
    }
   ],
   "source": [
    "print (nltk.corpus.twitter_samples)"
   ]
  },
  {
   "cell_type": "code",
   "execution_count": null,
   "id": "0cf9fea4-b812-4ab8-b5de-437b69acf74d",
   "metadata": {},
   "outputs": [],
   "source": [
    "from nltk.corpus import swadesh\n",
    "from nltk.corpus import gutenberg\n",
    "print (nltk.corpus.Gutenberg)\n",
    "print (gutenberg.fileids())"
   ]
  },
  {
   "cell_type": "code",
   "execution_count": null,
   "id": "4fb4847d-7015-463e-88dd-f24baaddb92f",
   "metadata": {},
   "outputs": [],
   "source": []
  },
  {
   "cell_type": "raw",
   "id": "a010777c-ba82-48e6-bede-20983e598db3",
   "metadata": {},
   "source": []
  }
 ],
 "metadata": {
  "kernelspec": {
   "display_name": "Python 3 (ipykernel)",
   "language": "python",
   "name": "python3"
  },
  "language_info": {
   "codemirror_mode": {
    "name": "ipython",
    "version": 3
   },
   "file_extension": ".py",
   "mimetype": "text/x-python",
   "name": "python",
   "nbconvert_exporter": "python",
   "pygments_lexer": "ipython3",
   "version": "3.12.7"
  }
 },
 "nbformat": 4,
 "nbformat_minor": 5
}
