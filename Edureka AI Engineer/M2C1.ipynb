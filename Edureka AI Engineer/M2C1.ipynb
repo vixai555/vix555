{
 "cells": [
  {
   "cell_type": "code",
   "execution_count": 3,
   "id": "fca15f8a-a5f4-45c0-be91-7a033a2fa540",
   "metadata": {},
   "outputs": [
    {
     "name": "stdout",
     "output_type": "stream",
     "text": [
      "['Lord', 'Krishna', 'is', 'Awesome', '.', 'Lord', 'Krishna', 'is', 'Awesome', '.', 'Lord', 'Krishna', 'is', 'Awesome', '.', 'Lord', 'Krishna', 'is', 'Great', '.', 'Hare', 'Krishna', 'Hare', 'Ram', 'Radhe', 'Govinda', '.', 'Lord', 'Krishna', 'is', 'Awesome', '.', 'Lord', 'Krishna', 'is', 'Awesome', '.', 'Lord', 'Krishna', 'is', 'Awesome', '.', 'Lord', 'Krishna', 'is', 'Great', '.', 'Hare', 'Krishna', 'Hare', 'Ram', 'Radhe', 'Govinda']\n",
      "[('Krishna', 10), ('.', 9), ('Lord', 8), ('is', 8), ('Awesome', 6), ('Hare', 4), ('Great', 2), ('Ram', 2), ('Radhe', 2), ('Govinda', 2)]\n"
     ]
    }
   ],
   "source": [
    "# This file has exercises for Module 2 Case Study 1 - Extracting, Cleaning & Preprocessing Text\n",
    "#1\n",
    "import nltk\n",
    "from nltk import FreqDist as fd\n",
    "from nltk.tokenize import word_tokenize as wt\n",
    "\n",
    "def tokenize(content):\n",
    "    return wt(content)\n",
    "\n",
    "content = \"Lord Krishna is Awesome. Lord Krishna is Awesome. Lord Krishna is Awesome. Lord Krishna is Great. Hare Krishna Hare Ram Radhe Govinda. Lord Krishna is Awesome. Lord Krishna is Awesome. Lord Krishna is Awesome. Lord Krishna is Great. Hare Krishna Hare Ram Radhe Govinda\"\n",
    "text_tokens = tokenize(content)\n",
    "print(text_tokens)\n",
    "fq = fd(token for token in text_tokens)\n",
    "common = fq.most_common()[-10:]\n",
    "print(common)"
   ]
  },
  {
   "cell_type": "code",
   "execution_count": 4,
   "id": "7bd9fb2c-5a5a-42d0-bcb0-118f3b4a19b7",
   "metadata": {},
   "outputs": [
    {
     "name": "stdout",
     "output_type": "stream",
     "text": [
      "Original Text\n",
      "['Here', 'is', 'a', 'sample', 'text', '.', 'The', 'Universe', 'is', 'unlimited', ',', 'like', 'the', 'existence', '.', 'Here', 'is', 'a', 'sample', 'text', '.', 'The', 'Universe', 'is', 'unlimited', ',', 'like', 'the', 'existence', '.', 'Lord', 'Krishna', 'is', 'Awesome', '.', 'Lord', 'Krishna', 'is', 'Awesome', '.', 'Lord', 'Krishna', 'is', 'Awesome', '.', 'Lord', 'Krishna', 'is', 'Great', '.', 'Hare', 'Krishna', 'Hare', 'Ram', 'Radhe', 'Govinda', '.', 'Lord', 'Krishna', 'is', 'Awesome', '.', 'Lord', 'Krishna', 'is', 'Awesome', '.', 'Lord', 'Krishna', 'is', 'Awesome', '.', 'Lord', 'Krishna', 'is', 'Great', '.', 'Hare', 'Krishna', 'Hare', 'Ram', 'Radhe', 'Govinda']\n",
      "Removed\n",
      "['Lord', 'Krishna', 'Awesome', '.', 'Lord', 'Krishna', 'Awesome', '.', 'Lord', 'Krishna', 'Awesome', '.', 'Lord', 'Krishna', 'Great', '.', 'Hare', 'Krishna', 'Hare', 'Ram', 'Radhe', 'Govinda', '.', 'Lord', 'Krishna', 'Awesome', '.', 'Lord', 'Krishna', 'Awesome', '.', 'Lord', 'Krishna', 'Awesome', '.', 'Lord', 'Krishna', 'Great', '.', 'Hare', 'Krishna', 'Hare', 'Ram', 'Radhe', 'Govinda']\n"
     ]
    },
    {
     "name": "stderr",
     "output_type": "stream",
     "text": [
      "C:\\Users\\SiyaPransh\\AppData\\Local\\Temp\\ipykernel_12952\\2403443209.py:28: UserWarning: FigureCanvasAgg is non-interactive, and thus cannot be shown\n",
      "  plt.figure.show()\n"
     ]
    },
    {
     "data": {
      "image/png": "[encoded data removed]",
      "text/plain": [
       "<Figure size 640x480 with 1 Axes>"
      ]
     },
     "metadata": {},
     "output_type": "display_data"
    }
   ],
   "source": [
    "#2\n",
    "from nltk.corpus import stopwords\n",
    "from nltk.tokenize import word_tokenize as wt\n",
    "import matplotlib.pyplot as plt\n",
    "import pandas as pd\n",
    "#nltk.download('stopwords')\n",
    "stop_words = set(stopwords.words('english'))\n",
    "\n",
    "word_tokens = tokenize(content)\n",
    "\n",
    "def RemoveStopWords(content):\n",
    "    filtered_sentence = []\n",
    "    list_of_stop_words = []\n",
    "    for w in content:\n",
    "        if w.lower() not in stop_words:\n",
    "            filtered_sentence.append(w)\n",
    "        if w.lower() in stop_words:\n",
    "            list_of_stop_words.append(w)\n",
    "            \n",
    "    fq = fd(token.lower() for token in list_of_stop_words)\n",
    "    #common = fq.most_common()\n",
    "    #print(common)\n",
    "    #letter_dict = dict(fd(common).most_common()) \n",
    "    letter_dict = dict(fq) \n",
    "    #print(letter_dict)\n",
    "    most_common_letters = pd.DataFrame({\"Frequency Distribution of Stop Words\":  list(letter_dict.values())}, index=list(letter_dict.keys()))\n",
    "    plt = most_common_letters.plot(kind=\"bar\")\n",
    "    plt.figure.show()\n",
    "    return (filtered_sentence)\n",
    "\n",
    "content = \"Here is a sample text. The Universe is unlimited, like the existence. Here is a sample text. The Universe is unlimited, like the existence. Lord Krishna is Awesome. Lord Krishna is Awesome. Lord Krishna is Awesome. Lord Krishna is Great. Hare Krishna Hare Ram Radhe Govinda. Lord Krishna is Awesome. Lord Krishna is Awesome. Lord Krishna is Awesome. Lord Krishna is Great. Hare Krishna Hare Ram Radhe Govinda\"\n",
    "text_tokens = tokenize(content)\n",
    "print (\"Original Text\")\n",
    "print(text_tokens)\n",
    "removed_stop_words = RemoveStopWords(text_tokens)\n",
    "print (\"Removed\")\n",
    "print(removed_stop_words)"
   ]
  },
  {
   "cell_type": "code",
   "execution_count": 5,
   "id": "c9d6522f-a40c-415b-87e0-970d108fe38a",
   "metadata": {},
   "outputs": [
    {
     "name": "stdout",
     "output_type": "stream",
     "text": [
      "Give :  give ; giving :  give ; gave :  gave ; given :  given ; have :  have ; having :  have ; had :  had ; had :  had ; been :  been ; look :  look ; looking :  look ; like :  like ; liking :  like ; likeable :  likeabl ; "
     ]
    }
   ],
   "source": [
    "#3 - Stemming\n",
    "from nltk.stem import PorterStemmer\n",
    "pst = PorterStemmer()\n",
    "#from nltk.tokenize import word_tokenize as wt\n",
    "\n",
    "def Stemmed(content):\n",
    "        return(pst.stem(content))\n",
    "\n",
    "content = \"Give giving gave given have having had had been look looking like liking likeable\"\n",
    "word_tokens = tokenize(content)\n",
    "#print(word_tokens)\n",
    "for words in word_tokens:\n",
    "    stemmed =  Stemmed(words)\n",
    "    print(words + \" : \" , end = \" \")\n",
    "    print(stemmed, end = \" ; \")"
   ]
  },
  {
   "cell_type": "code",
   "execution_count": 6,
   "id": "33e6f15d-bdb3-45d2-9078-70ce6215632d",
   "metadata": {},
   "outputs": [
    {
     "name": "stdout",
     "output_type": "stream",
     "text": [
      "Corpora :  Corpora ; Give :  Give ; giving :  giving ; gave :  gave ; given :  given ; have :  have ; having :  having ; had :  had ; had :  had ; been :  been ; look :  look ; looking :  looking ; like :  like ; liking :  liking ; likeable :  likeable ; "
     ]
    }
   ],
   "source": [
    "#3 - Lemmatization\n",
    "from nltk.stem import wordnet\n",
    "from nltk.stem import WordNetLemmatizer\n",
    "wl = WordNetLemmatizer()\n",
    "\n",
    "def Lemmatize(content):\n",
    "        return(wl.lemmatize(content))\n",
    "\n",
    "content = \"Corpora Give giving gave given have having had had been look looking like liking likeable\"\n",
    "word_tokens = tokenize(content)\n",
    "#print(word_tokens)\n",
    "for words in word_tokens:\n",
    "    lemma =  Lemmatize(words)\n",
    "    print(words + \" : \" , end = \" \")\n",
    "    print(lemma, end = \" ; \")"
   ]
  },
  {
   "cell_type": "code",
   "execution_count": 7,
   "id": "39c2a6cd-a4da-4f9d-abe2-b5331b3930f9",
   "metadata": {},
   "outputs": [
    {
     "name": "stdout",
     "output_type": "stream",
     "text": [
      "Original, Lemmatized, Stemmed\n",
      "Corpora,Corpora,corpora\n",
      "Give,Give,give\n",
      "the,the,the\n",
      "an,an,an\n",
      "it,it,it\n",
      "giving,giving,give\n",
      "gave,gave,gave\n",
      "given,given,given\n",
      "have,have,have\n",
      "having,having,have\n",
      "had,had,had\n",
      "had,had,had\n",
      "a,a,a\n",
      "the,the,the\n",
      "an,an,an\n",
      "it,it,it\n",
      "been,been,been\n",
      "look,look,look\n",
      "looking,looking,look\n",
      "like,like,like\n",
      "liking,liking,like\n",
      "likeable,likeable,likeabl\n",
      "    Original  Lemmatized  Stemmed\n",
      "0    Corpora     Corpora  corpora\n",
      "1       Give        Give     give\n",
      "2        the         the      the\n",
      "3         an          an       an\n",
      "4         it          it       it\n",
      "5     giving      giving     give\n",
      "6       gave        gave     gave\n",
      "7      given       given    given\n",
      "8       have        have     have\n",
      "9     having      having     have\n",
      "10       had         had      had\n",
      "11       had         had      had\n",
      "12         a           a        a\n",
      "13       the         the      the\n",
      "14        an          an       an\n",
      "15        it          it       it\n",
      "16      been        been     been\n",
      "17      look        look     look\n",
      "18   looking     looking     look\n",
      "19      like        like     like\n",
      "20    liking      liking     like\n",
      "21  likeable    likeable  likeabl\n"
     ]
    }
   ],
   "source": [
    "#3 - Print all the words along with their lemmatized and Stemmed form using the above functions AND Save these results in a csv file having 3 columns\n",
    "\n",
    "content = \"Corpora Give the an it giving gave given have having had had a the an it been look looking like liking likeable\"\n",
    "word_tokens = tokenize(content)\n",
    "#print(word_tokens)\n",
    "f = open(\"Original, Lemmatized & Stemmed Words1.csv\", \"w\")\n",
    "f.write(\"Original, Lemmatized, Stemmed\\n\")\n",
    "print(\"Original, Lemmatized, Stemmed\")\n",
    "for words in word_tokens:\n",
    "    f.write(words)\n",
    "    f.write(\",\")\n",
    "    print(words, end = \",\")\n",
    "    lemma =  Lemmatize(words)\n",
    "    f.write(lemma)\n",
    "    f.write(\",\")\n",
    "    print(lemma, end = \",\")\n",
    "    stemmed =  Stemmed(words)\n",
    "    f.write(stemmed)\n",
    "    f.write(\"\\n\")\n",
    "    print(stemmed, end = \"\\n\")\n",
    "f.close()\n",
    "\n",
    "#3 Save these results in a csv file having 3 columns\n",
    "csvFile = pd.read_csv('Original, Lemmatized & Stemmed Words1.csv')\n",
    "print(csvFile)"
   ]
  },
  {
   "cell_type": "code",
   "execution_count": 4,
   "id": "445de7c8-f7c0-4daa-b508-b1285918c02d",
   "metadata": {},
   "outputs": [
    {
     "name": "stdin",
     "output_type": "stream",
     "text": [
      "Enter your string:  that was an awesome example that I saw what else can I say\n"
     ]
    },
    {
     "name": "stdout",
     "output_type": "stream",
     "text": [
      "Entered String :  that was an awesome example that I saw what else can I say\n",
      "Entered String (tokenized):\n",
      " ['that', 'was', 'an', 'awesome', 'example', 'that', 'I', 'saw', 'what', 'else', 'can', 'I', 'say']\n",
      "Entered String (Stop Words Removed):\n",
      " ['awesome', 'example', 'saw', 'else', 'say']\n",
      "Entered String (Lemmatized):\n",
      "\n",
      "awesome\n",
      "example\n",
      "saw\n",
      "else\n",
      "say\n"
     ]
    }
   ],
   "source": [
    "#4 - This will be eventually saved as Preprocess file\n",
    "\n",
    "from nltk.tokenize import word_tokenize as wt\n",
    "from nltk.corpus import stopwords\n",
    "from nltk.stem import wordnet\n",
    "from nltk.stem import WordNetLemmatizer\n",
    "wl = WordNetLemmatizer()\n",
    "stop_words = set(stopwords.words('english'))\n",
    "\n",
    "def tokenize(content):\n",
    "    return wt(content)\n",
    "\n",
    "def RemoveStopWords(content):\n",
    "    filtered_sentence = []\n",
    "    for w in content:\n",
    "        if w.lower() not in stop_words:\n",
    "            filtered_sentence.append(w)\n",
    "    return (filtered_sentence)\n",
    "\n",
    "def Lemmatize(content):\n",
    "        return(wl.lemmatize(content))\n",
    "\n",
    "def refine(user_string):     \n",
    "    #val = input(\"Enter your string: \")     \n",
    "    print(\"Entered String : \", str(user_string))     \n",
    "    text_tokens = tokenize(user_string)     \n",
    "    print(\"Entered String (tokenized):\\n\", text_tokens)     \n",
    "    removed_stop_words = RemoveStopWords(text_tokens)     \n",
    "    print(\"Entered String (Stop Words Removed):\\n\", removed_stop_words)     \n",
    "    #lemma =  Lemmatize(list(removed_stop_words))     \n",
    "    print(\"Entered String (Lemmatized):\\n\")     \n",
    "    for word in removed_stop_words:         \n",
    "        w = Lemmatize(word)         \n",
    "        print(w)  \n",
    "\n",
    "val = input(\"Enter your string: \") \n",
    "refine(val)"
   ]
  },
  {
   "cell_type": "code",
   "execution_count": null,
   "id": "49f2b046-f4f2-4a87-b9f8-51f7d69e799d",
   "metadata": {},
   "outputs": [],
   "source": []
  }
 ],
 "metadata": {
  "kernelspec": {
   "display_name": "Python 3 (ipykernel)",
   "language": "python",
   "name": "python3"
  },
  "language_info": {
   "codemirror_mode": {
    "name": "ipython",
    "version": 3
   },
   "file_extension": ".py",
   "mimetype": "text/x-python",
   "name": "python",
   "nbconvert_exporter": "python",
   "pygments_lexer": "ipython3",
   "version": "3.12.7"
  }
 },
 "nbformat": 4,
 "nbformat_minor": 5
}
