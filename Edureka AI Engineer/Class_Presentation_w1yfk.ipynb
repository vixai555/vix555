{
 "cells": [
  {
   "cell_type": "markdown",
   "metadata": {},
   "source": [
    "### NLP Basics\n",
    "\n",
    "#### Use Case: Predict the type of query recieved from a customer when interacting with an AI-based Chatbot. "
   ]
  },
  {
   "cell_type": "markdown",
   "metadata": {},
   "source": [
    "To achieve the above objective, we will break down everything into the following steps inorder to understand the basic building blocks of Natural Language Processing:\n",
    "\n",
    "0.  Understand the Data.\n",
    "1.  Tokenization\n",
    "2.  Bigrams, Trigrams and ngrams\n",
    "3.  Stop-Word removal\n",
    "4.  Stemming\n",
    "5.  Lemmitization  \n",
    "6.  POS tags and NER\n",
    "7.  Syntax Trees\n",
    "8.  Sentence Structure using Context Free Grammer (CFG's)\n",
    "9.  Chunking and Chinking Techniques.\n",
    "10. Quick recall of basic mechanisms of Machine Learning.\n",
    "11. Bag of Words\n",
    "12. Count Vectorization\n",
    "13. TF-IDF\n",
    "14. Overview of Machine Learning - Supervised Learning, Unsupervised Learning\n",
    "15. Text Classification using SL algorithms."
   ]
  },
  {
   "cell_type": "code",
   "execution_count": 2,
   "metadata": {},
   "outputs": [
    {
     "name": "stderr",
     "output_type": "stream",
     "text": [
      "[nltk_data] Downloading package punkt to\n",
      "[nltk_data]     C:\\Users\\SiyaPransh/nltk_data...\n",
      "[nltk_data]   Package punkt is already up-to-date!\n",
      "[nltk_data] Downloading package stopwords to\n",
      "[nltk_data]     C:\\Users\\SiyaPransh/nltk_data...\n",
      "[nltk_data]   Package stopwords is already up-to-date!\n",
      "[nltk_data] Downloading package wordnet to\n",
      "[nltk_data]     C:\\Users\\SiyaPransh/nltk_data...\n",
      "[nltk_data]   Package wordnet is already up-to-date!\n",
      "[nltk_data] Downloading package punkt_tab to\n",
      "[nltk_data]     C:\\Users\\SiyaPransh/nltk_data...\n",
      "[nltk_data]   Unzipping tokenizers\\punkt_tab.zip.\n"
     ]
    },
    {
     "data": {
      "text/plain": [
       "True"
      ]
     },
     "execution_count": 2,
     "metadata": {},
     "output_type": "execute_result"
    }
   ],
   "source": [
    "# Basic Libraries\n",
    "import pandas as pd\n",
    "import numpy as np\n",
    "import re\n",
    "import nltk\n",
    "nltk.download('punkt')\n",
    "nltk.download('stopwords')\n",
    "nltk.download('wordnet')\n",
    "nltk.download('punkt_tab')"
   ]
  },
  {
   "cell_type": "code",
   "execution_count": 3,
   "metadata": {},
   "outputs": [
    {
     "name": "stdout",
     "output_type": "stream",
     "text": [
      "\n",
      "                                    Customer_Query           Category\n",
      "0                    How can I reset my password?  Technical Support\n",
      "1  My order hasn't arrived yet, what should I do?        Order Issue\n",
      "2                I need a refund for my purchase.     Refund Request\n",
      "3            Do you offer international shipping?    General Inquiry\n",
      "4              The product I received is damaged.        Order Issue \n",
      " ========================\n",
      "<class 'pandas.core.frame.DataFrame'>\n",
      "RangeIndex: 61 entries, 0 to 60\n",
      "Data columns (total 2 columns):\n",
      " #   Column          Non-Null Count  Dtype \n",
      "---  ------          --------------  ----- \n",
      " 0   Customer_Query  61 non-null     object\n",
      " 1   Category        61 non-null     object\n",
      "dtypes: object(2)\n",
      "memory usage: 1.1+ KB\n",
      "\n",
      " None \n",
      " ========================\n",
      "\n",
      "                       Customer_Query         Category\n",
      "count                             61               61\n",
      "unique                            61                4\n",
      "top     How can I reset my password?  General Inquiry\n",
      "freq                               1               35 \n",
      " ========================\n",
      "\n",
      " ['Technical Support' 'Order Issue' 'Refund Request' 'General Inquiry'] \n",
      " ========================\n"
     ]
    }
   ],
   "source": [
    "#   0.  Understand the data\n",
    "\n",
    "df = pd.read_csv('expanded_customer_support_queries.csv')\n",
    "print(\"\\n\",df.head(5),\"\\n\",\"========================\") # display the top 3 records.\n",
    "print(\"\\n\",df.info(),\"\\n\",\"========================\") # Basic dataframe info\n",
    "print(\"\\n\",df.describe(),\"\\n\",\"========================\") # Basic dataframe description\n",
    "print(\"\\n\",df['Category'].unique(),\"\\n\",\"========================\") # Printing the uniques values in col Category"
   ]
  },
  {
   "cell_type": "markdown",
   "metadata": {},
   "source": [
    "Within our data, we have 2 cols called **Customer_Query** and **Category** and a total **61 records** <br>\n",
    "Also, from results for describe fn, we see there are 4 unique values in **Category** col.<br>\n",
    "These unique values are *'Technical Support' 'Order Issue' 'Refund Request' 'General Inquiry'* as displayed using the unique fn above.\n",
    "\n",
    "#### Thus, clarifing our objective:\n",
    "\n",
    "*Anytime a customer inputs a query like **What is happening to my delivery**, our bot should be above to categorize the query to be as **Oder Issue***"
   ]
  },
  {
   "cell_type": "code",
   "execution_count": 4,
   "metadata": {},
   "outputs": [
    {
     "name": "stdout",
     "output_type": "stream",
     "text": [
      "['this', 'is', 'a', 'sample', 'text', '.', 'at', 'the', 'end', 'we', 'will', 'be', 'using', 'the', 'data', 'from', 'the', 'customer_query', 'col', '.']\n"
     ]
    }
   ],
   "source": [
    "from nltk.tokenize import word_tokenize\n",
    "'''\n",
    "nltk.tokenize.word_tokenize(text, language='english', preserve_line=False)\n",
    "Returns a tokenized copy of text, using NLTK’s recommended word tokenizer (currently an improved TreebankWordTokenizer along \n",
    "with PunktSentenceTokenizer for the specified language).\n",
    "'''\n",
    "\n",
    "text = \"This is a sample text. At the end we will be using the data from the Customer_Query col.\"\n",
    "text = text.lower()\n",
    "tokens = word_tokenize(text)\n",
    "print(tokens)\n"
   ]
  },
  {
   "cell_type": "code",
   "execution_count": 5,
   "metadata": {},
   "outputs": [
    {
     "name": "stdout",
     "output_type": "stream",
     "text": [
      "['sample', 'text', '.', 'end', 'using', 'data', 'customer_query', 'col', '.']\n"
     ]
    }
   ],
   "source": [
    "from nltk.corpus import stopwords\n",
    "\n",
    "from nltk.stem import WordNetLemmatizer\n",
    "'''\n",
    "Lemmatize using WordNet’s built-in morphy function. Returns the input word unchanged if it cannot be found in WordNet.\n",
    "'''\n",
    "wnl = WordNetLemmatizer()\n",
    "tokens = [wnl.lemmatize(word) for word in tokens if word not in stopwords.words('english')]\n",
    "print(tokens)"
   ]
  },
  {
   "cell_type": "code",
   "execution_count": 12,
   "metadata": {},
   "outputs": [
    {
     "name": "stdout",
     "output_type": "stream",
     "text": [
      "Accuracy: 0.54\n",
      "Classification Report:\n",
      "                    precision    recall  f1-score   support\n",
      "\n",
      "  General Inquiry       0.54      1.00      0.70         7\n",
      "      Order Issue       0.00      0.00      0.00         3\n",
      "   Refund Request       0.00      0.00      0.00         1\n",
      "Technical Support       0.00      0.00      0.00         2\n",
      "\n",
      "         accuracy                           0.54        13\n",
      "        macro avg       0.13      0.25      0.17        13\n",
      "     weighted avg       0.29      0.54      0.38        13\n",
      "\n",
      "Predicted Category: General Inquiry\n"
     ]
    },
    {
     "name": "stderr",
     "output_type": "stream",
     "text": [
      "C:\\Users\\SiyaPransh\\anaconda3\\Lib\\site-packages\\sklearn\\metrics\\_classification.py:1531: UndefinedMetricWarning: Precision is ill-defined and being set to 0.0 in labels with no predicted samples. Use `zero_division` parameter to control this behavior.\n",
      "  _warn_prf(average, modifier, f\"{metric.capitalize()} is\", len(result))\n",
      "C:\\Users\\SiyaPransh\\anaconda3\\Lib\\site-packages\\sklearn\\metrics\\_classification.py:1531: UndefinedMetricWarning: Precision is ill-defined and being set to 0.0 in labels with no predicted samples. Use `zero_division` parameter to control this behavior.\n",
      "  _warn_prf(average, modifier, f\"{metric.capitalize()} is\", len(result))\n",
      "C:\\Users\\SiyaPransh\\anaconda3\\Lib\\site-packages\\sklearn\\metrics\\_classification.py:1531: UndefinedMetricWarning: Precision is ill-defined and being set to 0.0 in labels with no predicted samples. Use `zero_division` parameter to control this behavior.\n",
      "  _warn_prf(average, modifier, f\"{metric.capitalize()} is\", len(result))\n"
     ]
    }
   ],
   "source": [
    "from sklearn.feature_extraction.text import TfidfVectorizer\n",
    "from sklearn.model_selection import train_test_split\n",
    "from sklearn.naive_bayes import MultinomialNB\n",
    "from sklearn.metrics import accuracy_score\n",
    "from sklearn.metrics import classification_report\n",
    "def preprocess_text(text):\n",
    "    text = text.lower()\n",
    "    text = re.sub(r'[^a-zA-Z0-9]', ' ', text)\n",
    "    tokens = word_tokenize(text)\n",
    "    tokens = [word for word in tokens if word not in stopwords.words('english')]\n",
    "    lemmatizer = WordNetLemmatizer()\n",
    "    tokens = [lemmatizer.lemmatize(word) for word in tokens]\n",
    "    return ' '.join(tokens)\n",
    "\n",
    "# Apply preprocessing\n",
    "df['Processed_Query'] = df['Customer_Query'].apply(preprocess_text)\n",
    "\n",
    "# Feature extraction using TF-IDF\n",
    "vectorizer = TfidfVectorizer()\n",
    "X = vectorizer.fit_transform(df['Processed_Query'])\n",
    "y = df['Category']\n",
    "\n",
    "# Splitting dataset into training and testing\n",
    "X_train, X_test, y_train, y_test = train_test_split(X, y, test_size=0.2, random_state=42)\n",
    "\n",
    "# Model training using Naïve Bayes classifier\n",
    "model = MultinomialNB()\n",
    "model.fit(X_train, y_train)\n",
    "\n",
    "# Model evaluation\n",
    "y_pred = model.predict(X_test)\n",
    "accuracy = accuracy_score(y_test, y_pred)\n",
    "report = classification_report(y_test, y_pred)\n",
    "\n",
    "print(f'Accuracy: {accuracy:.2f}')\n",
    "print('Classification Report:\\n', report)\n",
    "\n",
    "# Function to predict category of a new query\n",
    "def predict_category(query):\n",
    "    processed_query = preprocess_text(query)\n",
    "    query_vector = vectorizer.transform([processed_query])\n",
    "    prediction = model.predict(query_vector)[0]\n",
    "    return prediction\n",
    "\n",
    "# Example query\n",
    "example_query = \"Where is my order?\"\n",
    "predicted_category = predict_category(example_query)\n",
    "print(f'Predicted Category: {predicted_category}')\n"
   ]
  },
  {
   "cell_type": "code",
   "execution_count": 15,
   "metadata": {},
   "outputs": [
    {
     "name": "stdout",
     "output_type": "stream",
     "text": [
      "['AlignedCorpusReader', 'AlpinoCorpusReader', 'BCP47CorpusReader', 'BNCCorpusReader', 'BracketParseCorpusReader', 'CHILDESCorpusReader', 'CMUDictCorpusReader', 'CategorizedBracketParseCorpusReader', 'CategorizedCorpusReader', 'CategorizedPlaintextCorpusReader', 'CategorizedSentencesCorpusReader', 'CategorizedTaggedCorpusReader', 'ChasenCorpusReader', 'ChunkedCorpusReader', 'ComparativeSentencesCorpusReader', 'ConllChunkCorpusReader', 'ConllCorpusReader', 'CorpusReader', 'CrubadanCorpusReader', 'DependencyCorpusReader', 'EuroparlCorpusReader', 'FramenetCorpusReader', 'IEERCorpusReader', 'IPIPANCorpusReader', 'IndianCorpusReader', 'KNBCorpusReader', 'LazyCorpusLoader', 'LinThesaurusCorpusReader', 'MTECorpusReader', 'MWAPPDBCorpusReader', 'MacMorphoCorpusReader', 'NKJPCorpusReader', 'NPSChatCorpusReader', 'NombankCorpusReader', 'NonbreakingPrefixesCorpusReader', 'OpinionLexiconCorpusReader', 'PPAttachmentCorpusReader', 'PanLexLiteCorpusReader', 'PanlexSwadeshCorpusReader', 'Pl196xCorpusReader', 'PlaintextCorpusReader', 'PortugueseCategorizedPlaintextCorpusReader', 'PropbankCorpusReader', 'ProsConsCorpusReader', 'RTECorpusReader', 'RegexpTokenizer', 'ReviewsCorpusReader', 'SemcorCorpusReader', 'SensevalCorpusReader', 'SentiSynset', 'SentiWordNetCorpusReader', 'SinicaTreebankCorpusReader', 'StringCategoryCorpusReader', 'SwadeshCorpusReader', 'SwitchboardCorpusReader', 'SyntaxCorpusReader', 'TEICorpusView', 'TaggedCorpusReader', 'TimitCorpusReader', 'TimitTaggedCorpusReader', 'ToolboxCorpusReader', 'TwitterCorpusReader', 'UdhrCorpusReader', 'UnicharsCorpusReader', 'VerbnetCorpusReader', 'WordListCorpusReader', 'WordNetCorpusReader', 'WordNetICCorpusReader', 'XMLCorpusReader', 'YCOECorpusReader', '__annotations__', '__builtins__', '__cached__', '__doc__', '__file__', '__loader__', '__name__', '__package__', '__path__', '__spec__', 'abc', 'alpino', 'bcp47', 'brown', 'cess_cat', 'cess_esp', 'cmudict', 'comparative_sentences', 'comtrans', 'conll2000', 'conll2002', 'conll2007', 'crubadan', 'demo', 'dependency_treebank', 'extended_omw', 'find_corpus_fileids', 'floresta', 'framenet', 'framenet15', 'gazetteers', 'genesis', 'gutenberg', 'ieer', 'inaugural', 'indian', 'jeita', 'knbc', 'lin_thesaurus', 'mac_morpho', 'machado', 'masc_tagged', 'movie_reviews', 'multext_east', 'names', 'nombank', 'nombank_ptb', 'nonbreaking_prefixes', 'nps_chat', 'opinion_lexicon', 'perluniprops', 'ppattach', 'product_reviews_1', 'product_reviews_2', 'propbank', 'propbank_ptb', 'pros_cons', 'ptb', 'qc', 're', 'reader', 'reuters', 'rte', 'semcor', 'senseval', 'sentence_polarity', 'sentiwordnet', 'shakespeare', 'sinica_treebank', 'state_union', 'stopwords', 'subjectivity', 'swadesh', 'swadesh110', 'swadesh207', 'switchboard', 'tagged_treebank_para_block_reader', 'timit', 'timit_tagged', 'toolbox', 'treebank', 'treebank_chunk', 'treebank_raw', 'twitter_samples', 'udhr', 'udhr2', 'universal_treebanks', 'util', 'verbnet', 'webtext', 'wordnet', 'wordnet2021', 'wordnet2022', 'wordnet31', 'wordnet_ic', 'words']\n",
      "<TwitterCorpusReader in '.../corpora/twitter_samples' (not loaded yet)>\n"
     ]
    },
    {
     "name": "stderr",
     "output_type": "stream",
     "text": [
      "[nltk_data] Downloading package gutenberg to\n",
      "[nltk_data]     C:\\Users\\SiyaPransh/nltk_data...\n"
     ]
    },
    {
     "name": "stdout",
     "output_type": "stream",
     "text": [
      "<PlaintextCorpusReader in '.../corpora/gutenberg' (not loaded yet)>\n",
      "['austen-emma.txt', 'austen-persuasion.txt', 'austen-sense.txt', 'bible-kjv.txt', 'blake-poems.txt', 'bryant-stories.txt', 'burgess-busterbrown.txt', 'carroll-alice.txt', 'chesterton-ball.txt', 'chesterton-brown.txt', 'chesterton-thursday.txt', 'edgeworth-parents.txt', 'melville-moby_dick.txt', 'milton-paradise.txt', 'shakespeare-caesar.txt', 'shakespeare-hamlet.txt', 'shakespeare-macbeth.txt', 'whitman-leaves.txt']\n"
     ]
    },
    {
     "name": "stderr",
     "output_type": "stream",
     "text": [
      "[nltk_data]   Unzipping corpora\\gutenberg.zip.\n"
     ]
    }
   ],
   "source": [
    "import nltk\n",
    "print(dir(nltk.corpus))\n",
    "from nltk.corpus import twitter_samples\n",
    "print (nltk.corpus.twitter_samples)\n",
    "from nltk.corpus import swadesh\n",
    "nltk.download('gutenberg')\n",
    "from nltk.corpus import gutenberg\n",
    "print (nltk.corpus.gutenberg)\n",
    "print (gutenberg.fileids())"
   ]
  },
  {
   "cell_type": "code",
   "execution_count": 17,
   "metadata": {},
   "outputs": [
    {
     "name": "stdout",
     "output_type": "stream",
     "text": [
      "['[', 'The', 'Tragedie', 'of', 'Macbeth', 'by', ...]\n"
     ]
    }
   ],
   "source": [
    "print(gutenberg.words('shakespeare-macbeth.txt'))"
   ]
  },
  {
   "cell_type": "code",
   "execution_count": 18,
   "metadata": {},
   "outputs": [
    {
     "ename": "TypeError",
     "evalue": "write() argument must be str, not StreamBackedCorpusView",
     "output_type": "error",
     "traceback": [
      "\u001b[1;31m---------------------------------------------------------------------------\u001b[0m",
      "\u001b[1;31mTypeError\u001b[0m                                 Traceback (most recent call last)",
      "Cell \u001b[1;32mIn[18], line 2\u001b[0m\n\u001b[0;32m      1\u001b[0m f \u001b[38;5;241m=\u001b[39m \u001b[38;5;28mopen\u001b[39m(\u001b[38;5;124m\"\u001b[39m\u001b[38;5;124mMacbeth.txt\u001b[39m\u001b[38;5;124m\"\u001b[39m, \u001b[38;5;124m\"\u001b[39m\u001b[38;5;124mw\u001b[39m\u001b[38;5;124m\"\u001b[39m)\n\u001b[1;32m----> 2\u001b[0m f\u001b[38;5;241m.\u001b[39mwrite(gutenberg\u001b[38;5;241m.\u001b[39mwords(\u001b[38;5;124m'\u001b[39m\u001b[38;5;124mshakespeare-macbeth.txt\u001b[39m\u001b[38;5;124m'\u001b[39m))\n",
      "\u001b[1;31mTypeError\u001b[0m: write() argument must be str, not StreamBackedCorpusView"
     ]
    }
   ],
   "source": [
    "f = open(\"Macbeth.txt\", \"w\")"
   ]
  },
  {
   "cell_type": "code",
   "execution_count": 19,
   "metadata": {},
   "outputs": [
    {
     "data": {
      "text/plain": [
       "52"
      ]
     },
     "execution_count": 19,
     "metadata": {},
     "output_type": "execute_result"
    }
   ],
   "source": [
    "f.write(str(gutenberg.words('shakespeare-macbeth.txt')))"
   ]
  },
  {
   "cell_type": "code",
   "execution_count": 21,
   "metadata": {},
   "outputs": [],
   "source": [
    "f.close()"
   ]
  },
  {
   "cell_type": "code",
   "execution_count": 16,
   "metadata": {},
   "outputs": [
    {
     "name": "stderr",
     "output_type": "stream",
     "text": [
      "[nltk_data] Downloading package stopwords to\n",
      "[nltk_data]     C:\\Users\\SiyaPransh/nltk_data...\n",
      "[nltk_data]   Package stopwords is already up-to-date!\n"
     ]
    },
    {
     "ename": "NameError",
     "evalue": "name 'gutenberg' is not defined",
     "output_type": "error",
     "traceback": [
      "\u001b[1;31m---------------------------------------------------------------------------\u001b[0m",
      "\u001b[1;31mNameError\u001b[0m                                 Traceback (most recent call last)",
      "Cell \u001b[1;32mIn[16], line 7\u001b[0m\n\u001b[0;32m      5\u001b[0m \u001b[38;5;66;03m# Create a set of stop words \u001b[39;00m\n\u001b[0;32m      6\u001b[0m stop_words \u001b[38;5;241m=\u001b[39m \u001b[38;5;28mset\u001b[39m(stopwords\u001b[38;5;241m.\u001b[39mwords(\u001b[38;5;124m'\u001b[39m\u001b[38;5;124menglish\u001b[39m\u001b[38;5;124m'\u001b[39m)) \n\u001b[1;32m----> 7\u001b[0m example_sent \u001b[38;5;241m=\u001b[39m \u001b[38;5;28mstr\u001b[39m(gutenberg\u001b[38;5;241m.\u001b[39mwords(\u001b[38;5;124m'\u001b[39m\u001b[38;5;124mshakespeare-macbeth.txt\u001b[39m\u001b[38;5;124m'\u001b[39m))\n\u001b[0;32m      8\u001b[0m word_tokens \u001b[38;5;241m=\u001b[39m word_tokenize(example_sent)\n\u001b[0;32m      9\u001b[0m filtered_sentence \u001b[38;5;241m=\u001b[39m [w \u001b[38;5;28;01mfor\u001b[39;00m w \u001b[38;5;129;01min\u001b[39;00m word_tokens \u001b[38;5;28;01mif\u001b[39;00m \u001b[38;5;129;01mnot\u001b[39;00m w\u001b[38;5;241m.\u001b[39mlower() \u001b[38;5;129;01min\u001b[39;00m stop_words]\n",
      "\u001b[1;31mNameError\u001b[0m: name 'gutenberg' is not defined"
     ]
    }
   ],
   "source": [
    "import nltk\n",
    "nltk.download('stopwords') \n",
    "from nltk.corpus import stopwords\n",
    "from nltk.tokenize import word_tokenize\n",
    "# Create a set of stop words \n",
    "stop_words = set(stopwords.words('english')) \n",
    "example_sent = str(gutenberg.words('shakespeare-macbeth.txt'))\n",
    "word_tokens = word_tokenize(example_sent)\n",
    "filtered_sentence = [w for w in word_tokens if not w.lower() in stop_words]\n",
    "filtered_sentence = []\n",
    "for w in word_tokens:\n",
    "    if w not in stop_words:\n",
    "        filtered_sentence.append(w)\n",
    "        \n",
    "print(word_tokens)\n",
    "print(filtered_sentence)"
   ]
  },
  {
   "cell_type": "code",
   "execution_count": 36,
   "metadata": {},
   "outputs": [
    {
     "name": "stderr",
     "output_type": "stream",
     "text": [
      "[nltk_data] Downloading package names to\n",
      "[nltk_data]     C:\\Users\\SiyaPransh/nltk_data...\n",
      "[nltk_data]   Unzipping corpora\\names.zip.\n"
     ]
    },
    {
     "data": {
      "text/plain": [
       "True"
      ]
     },
     "execution_count": 36,
     "metadata": {},
     "output_type": "execute_result"
    }
   ],
   "source": [
    "nltk.download('names') "
   ]
  },
  {
   "cell_type": "code",
   "execution_count": 10,
   "metadata": {},
   "outputs": [
    {
     "name": "stdout",
     "output_type": "stream",
     "text": [
      "5001\n",
      "2943\n",
      "['Aamir', 'Aaron', 'Abbey', 'Abbie', 'Abbot', 'Abbott', 'Abby', 'Abdel', 'Abdul', 'Abdulkarim', 'Abdullah', 'Abe', 'Abel', 'Abelard', 'Abner', 'Abraham', 'Abram', 'Ace', 'Adair', 'Adam', 'Adams', 'Addie', 'Adger', 'Aditya', 'Adlai', 'Adnan', 'Adolf', 'Adolfo', 'Adolph', 'Adolphe', 'Adolpho', 'Adolphus', 'Adrian', 'Adrick', 'Adrien', 'Agamemnon', 'Aguinaldo', 'Aguste', 'Agustin', 'Aharon', 'Ahmad', 'Ahmed', 'Ahmet', 'Ajai', 'Ajay', 'Al', 'Alaa', 'Alain', 'Alan', 'Alasdair', 'Alastair', 'Albatros', 'Albert', 'Alberto', 'Albrecht', 'Alden', 'Aldis', 'Aldo', 'Aldric', 'Aldrich', 'Aldus', 'Aldwin', 'Alec', 'Aleck', 'Alejandro', 'Aleks', 'Aleksandrs', 'Alessandro', 'Alex', 'Alexander', 'Alexei', 'Alexis', 'Alf', 'Alfie', 'Alfonse', 'Alfonso', 'Alfonzo', 'Alford', 'Alfred', 'Alfredo', 'Algernon', 'Ali', 'Alic', 'Alister', 'Alix', 'Allah', 'Allan', 'Allen', 'Alley', 'Allie', 'Allin', 'Allyn', 'Alonso', 'Alonzo', 'Aloysius', 'Alphonse', 'Alphonso', 'Alston', 'Alton', 'Alvin', 'Alwin', 'Amadeus', 'Ambros', 'Ambrose', 'Ambrosi', 'Ambrosio', 'Ambrosius', 'Amery', 'Amory', 'Amos', 'Anatol', 'Anatole', 'Anatollo', 'Anatoly', 'Anders', 'Andie', 'Andonis', 'Andre', 'Andrea', 'Andreas', 'Andrej', 'Andres', 'Andrew', 'Andrey', 'Andri', 'Andros', 'Andrus', 'Andrzej', 'Andy', 'Angel', 'Angelico', 'Angelo', 'Angie', 'Angus', 'Ansel', 'Ansell', 'Anselm', 'Anson', 'Anthony', 'Antin', 'Antoine', 'Anton', 'Antone', 'Antoni', 'Antonin', 'Antonino', 'Antonio', 'Antonius', 'Antony', 'Anurag', 'Apollo', 'Apostolos', 'Aram', 'Archibald', 'Archibold', 'Archie', 'Archon', 'Archy', 'Arel', 'Ari', 'Arie', 'Ariel', 'Aristotle', 'Arlo', 'Armand', 'Armando', 'Armond', 'Armstrong', 'Arne', 'Arnie', 'Arnold', 'Arnoldo', 'Aron', 'Arron', 'Art', 'Arther', 'Arthur', 'Artie', 'Artur', 'Arturo', 'Arvie', 'Arvin', 'Arvind', 'Arvy', 'Ash', 'Ashby', 'Ashish', 'Ashley', 'Ashton', 'Aub', 'Aube', 'Aubert', 'Aubrey', 'Augie', 'August', 'Augustin', 'Augustine', 'Augusto', 'Augustus', 'Austen', 'Austin', 'Ave', 'Averell', 'Averil', 'Averill', 'Avery', 'Avi', 'Avraham', 'Avram', 'Avrom', 'Axel', 'Aylmer', 'Aziz', 'Bailey', 'Bailie', 'Baillie', 'Baily', 'Baird', 'Baldwin', 'Bancroft', 'Barbabas', 'Barclay', 'Bard', 'Barde', 'Barn', 'Barnabas', 'Barnabe', 'Barnaby', 'Barnard', 'Barnebas', 'Barnett', 'Barney', 'Barnie', 'Barny', 'Baron', 'Barr', 'Barret', 'Barrett', 'Barri', 'Barrie', 'Barris', 'Barron', 'Barry', 'Bart', 'Bartel', 'Barth', 'Barthel', 'Bartholemy', 'Bartholomeo', 'Bartholomeus', 'Bartholomew', 'Bartie', 'Bartlet', 'Bartlett', 'Bartolemo', 'Bartolomei', 'Bartolomeo', 'Barton', 'Barty', 'Bary', 'Basil', 'Batholomew', 'Baxter', 'Bay', 'Bayard', 'Beale', 'Bealle', 'Bear', 'Bearnard', 'Beau', 'Beaufort', 'Beauregard', 'Beck', 'Bela', 'Ben', 'Benedict', 'Bengt', 'Benito', 'Benjamen', 'Benjamin', 'Benji', 'Benjie', 'Benjy', 'Benn', 'Bennet', 'Bennett', 'Bennie', 'Benny', 'Benson', 'Bentley', 'Benton', 'Beowulf', 'Berchtold', 'Berk', 'Berke', 'Berkeley', 'Berkie', 'Berkley', 'Bernard', 'Bernardo', 'Bernd', 'Bernhard', 'Bernie', 'Bert', 'Bertie', 'Bertram', 'Bertrand', 'Bharat', 'Biff', 'Bill', 'Billie', 'Billy', 'Bing', 'Binky', 'Bishop', 'Bjorn', 'Bjorne', 'Blaine', 'Blair', 'Blake', 'Blare', 'Blayne', 'Bo', 'Bob', 'Bobbie', 'Bobby', 'Bogart', 'Bogdan', 'Boniface', 'Boris', 'Boyce', 'Boyd', 'Brad', 'Braden', 'Bradford', 'Bradley', 'Bradly', 'Brady', 'Brandon', 'Brandy', 'Brant', 'Brendan', 'Brent', 'Bret', 'Brett', 'Brewer', 'Brewster', 'Brian', 'Brice', 'Briggs', 'Brinkley', 'Britt', 'Brock', 'Broddie', 'Broddy', 'Broderic', 'Broderick', 'Brodie', 'Brody', 'Bronson', 'Brook', 'Brooke', 'Brooks', 'Bruce', 'Bruno', 'Bryan', 'Bryant', 'Bryce', 'Bryn', 'Bryon', 'Bubba', 'Buck', 'Bucky', 'Bud', 'Buddy', 'Burgess', 'Burke', 'Burl', 'Burnaby', 'Burt', 'Burton', 'Buster', 'Butch', 'Butler', 'Byram', 'Byron', 'Caesar', 'Cain', 'Cal', 'Caldwell', 'Caleb', 'Calhoun', 'Calvin', 'Cam', 'Cameron', 'Cammy', 'Carey', 'Carl', 'Carleigh', 'Carlie', 'Carlin', 'Carlo', 'Carlos', 'Carlton', 'Carlyle', 'Carmine', 'Carroll', 'Carson', 'Carsten', 'Carter', 'Cary', 'Caryl', 'Case', 'Casey', 'Caspar', 'Casper', 'Cass', 'Cat', 'Cecil', 'Cesar', 'Chad', 'Chadd', 'Chaddie', 'Chaddy', 'Chadwick', 'Chaim', 'Chalmers', 'Chan', 'Chance', 'Chancey', 'Chanderjit', 'Chandler', 'Chane', 'Chariot', 'Charles', 'Charleton', 'Charley', 'Charlie', 'Charlton', 'Chas', 'Chase', 'Chaunce', 'Chauncey', 'Che', 'Chelton', 'Chen', 'Chester', 'Cheston', 'Chet', 'Chev', 'Chevalier', 'Chevy', 'Chip', 'Chris', 'Chrissy', 'Christ', 'Christian', 'Christiano', 'Christie', 'Christof', 'Christofer', 'Christoph', 'Christophe', 'Christopher', 'Christorpher', 'Christos', 'Christy', 'Chrisy', 'Chuck', 'Churchill', 'Clair', 'Claire', 'Clancy', 'Clarance', 'Clare', 'Clarence', 'Clark', 'Clarke', 'Claude', 'Claudio', 'Claudius', 'Claus', 'Clay', 'Clayborn', 'Clayborne', 'Claybourne', 'Clayton', 'Cleland', 'Clem', 'Clemens', 'Clement', 'Clemente', 'Clemmie', 'Cletus', 'Cleveland', 'Cliff', 'Clifford', 'Clifton', 'Clint', 'Clinten', 'Clinton', 'Clive', 'Clyde', 'Cob', 'Cobb', 'Cobbie', 'Cobby', 'Cody', 'Colbert', 'Cole', 'Coleman', 'Colin', 'Collin', 'Collins', 'Conan', 'Connie', 'Connolly', 'Connor', 'Conrad', 'Conroy', 'Constantin', 'Constantine', 'Constantinos', 'Conway', 'Cooper', 'Corbin', 'Corby', 'Corey', 'Corky', 'Cornelius', 'Cornellis', 'Corrie', 'Cortese', 'Corwin', 'Cory', 'Cosmo', 'Costa', 'Courtney', 'Craig', 'Crawford', 'Creighton', 'Cris', 'Cristopher', 'Curt', 'Curtice', 'Curtis', 'Cy', 'Cyril', 'Cyrill', 'Cyrille', 'Cyrillus', 'Cyrus', 'Dabney', 'Daffy', 'Dale', 'Dallas', 'Dalton', 'Damian', 'Damien', 'Damon', 'Dan', 'Dana', 'Dane', 'Dani', 'Danie', 'Daniel', 'Dannie', 'Danny', 'Dante', 'Darby', 'Darcy', 'Daren', 'Darian', 'Darien', 'Darin', 'Dario', 'Darius', 'Darrel', 'Darrell', 'Darren', 'Darrick', 'Darrin', 'Darryl', 'Darth', 'Darwin', 'Daryl', 'Daryle', 'Dave', 'Davey', 'David', 'Davidde', 'Davide', 'Davidson', 'Davie', 'Davin', 'Davis', 'Davon', 'Davoud', 'Davy', 'Dawson', 'Dean', 'Deane', 'Del', 'Delbert', 'Dell', 'Delmar', 'Demetre', 'Demetri', 'Demetris', 'Demetrius', 'Demosthenis', 'Denis', 'Dennie', 'Dennis', 'Denny', 'Derby', 'Derek', 'Derick', 'Derk', 'Derrek', 'Derrick', 'Derrin', 'Derrol', 'Derron', 'Deryl', 'Desmond', 'Desmund', 'Devin', 'Devon', 'Dewey', 'Dewitt', 'Dexter', 'Dick', 'Dickey', 'Dickie', 'Diego', 'Dieter', 'Dietrich', 'Dillon', 'Dimitri', 'Dimitrios', 'Dimitris', 'Dimitrou', 'Dimitry', 'Dino', 'Dion', 'Dionis', 'Dionysus', 'Dirk', 'Dmitri', 'Dom', 'Domenic', 'Domenico', 'Dominic', 'Dominick', 'Dominique', 'Don', 'Donal', 'Donald', 'Donn', 'Donnie', 'Donny', 'Donovan', 'Dorian', 'Dory', 'Doug', 'Douggie', 'Dougie', 'Douglas', 'Douglass', 'Douglis', 'Dov', 'Doyle', 'Drake', 'Drew', 'Dru', 'Dryke', 'Duane', 'Dudley', 'Duffie', 'Duffy', 'Dugan', 'Duke', 'Dunc', 'Duncan', 'Dunstan', 'Durand', 'Durant', 'Durante', 'Durward', 'Dustin', 'Dwain', 'Dwaine', 'Dwane', 'Dwayne', 'Dwight', 'Dylan', 'Dyson', 'Earl', 'Earle', 'Easton', 'Eben', 'Ebeneser', 'Ebenezer', 'Eberhard', 'Ed', 'Eddie', 'Eddy', 'Edgar', 'Edgardo', 'Edie', 'Edmond', 'Edmund', 'Edouard', 'Edsel', 'Eduard', 'Eduardo', 'Edward', 'Edwin', 'Efram', 'Egbert', 'Ehud', 'Elbert', 'Elden', 'Eldon', 'Eli', 'Elias', 'Elihu', 'Elijah', 'Eliot', 'Eliott', 'Elisha', 'Elliot', 'Elliott', 'Ellis', 'Ellsworth', 'Ellwood', 'Elmer', 'Elmore', 'Elnar', 'Elric', 'Elroy', 'Elton', 'Elvin', 'Elvis', 'Elwin', 'Elwood', 'Elwyn', 'Ely', 'Emanuel', 'Emerson', 'Emery', 'Emil', 'Emile', 'Emilio', 'Emmanuel', 'Emmery', 'Emmet', 'Emmett', 'Emmit', 'Emmott', 'Emmy', 'Emory', 'Ender', 'Engelbart', 'Engelbert', 'Englebart', 'Englebert', 'Enoch', 'Enrico', 'Enrique', 'Ephraim', 'Ephram', 'Ephrayim', 'Ephrem', 'Er', 'Erasmus', 'Erastus', 'Erek', 'Erhard', 'Erhart', 'Eric', 'Erich', 'Erick', 'Erik', 'Erin', 'Erl', 'Ernest', 'Ernesto', 'Ernie', 'Ernst', 'Erny', 'Errol', 'Ervin', 'Erwin', 'Esau', 'Esme', 'Esteban', 'Ethan', 'Ethelbert', 'Ethelred', 'Etienne', 'Euclid', 'Eugen', 'Eugene', 'Eustace', 'Ev', 'Evan', 'Evelyn', 'Everard', 'Everett', 'Ewan', 'Ewart', 'Ez', 'Ezechiel', 'Ezekiel', 'Ezra', 'Fabian', 'Fabio', 'Fairfax', 'Farley', 'Fazeel', 'Federico', 'Felice', 'Felicio', 'Felipe', 'Felix', 'Ferd', 'Ferdie', 'Ferdinand', 'Ferdy', 'Fergus', 'Ferguson', 'Ferinand', 'Fernando', 'Fidel', 'Filbert', 'Filip', 'Filipe', 'Filmore', 'Finley', 'Finn', 'Fitz', 'Fitzgerald', 'Flem', 'Fleming', 'Flemming', 'Fletch', 'Fletcher', 'Flin', 'Flinn', 'Flint', 'Flipper', 'Florian', 'Floyd', 'Flynn', 'Fons', 'Fonsie', 'Fonz', 'Fonzie', 'Forbes', 'Ford', 'Forest', 'Forester', 'Forrest', 'Forrester', 'Forster', 'Foster', 'Fowler', 'Fox', 'Fran', 'Francesco', 'Francis', 'Francisco', 'Francois', 'Frank', 'Frankie', 'Franklin', 'Franklyn', 'Franky', 'Frans', 'Franz', 'Fraser', 'Frazier', 'Fred', 'Freddie', 'Freddy', 'Frederic', 'Frederich', 'Frederick', 'Frederico', 'Frederik', 'Fredric', 'Fredrick', 'Freeman', 'Freemon', 'Fremont', 'French', 'Friedric', 'Friedrich', 'Friedrick', 'Fritz', 'Fulton', 'Fyodor', 'Gabe', 'Gabriel', 'Gabriele', 'Gabriell', 'Gabriello', 'Gail', 'Gale', 'Galen', 'Gallagher', 'Gamaliel', 'Garcia', 'Garcon', 'Gardener', 'Gardiner', 'Gardner', 'Garey', 'Garfield', 'Garfinkel', 'Garold', 'Garp', 'Garret', 'Garrett', 'Garrot', 'Garrott', 'Garry', 'Garth', 'Garv', 'Garvey', 'Garvin', 'Garvy', 'Garwin', 'Garwood', 'Gary', 'Gaspar', 'Gasper', 'Gaston', 'Gav', 'Gaven', 'Gavin', 'Gavriel', 'Gay', 'Gayle', 'Gearard', 'Gene', 'Geo', 'Geof', 'Geoff', 'Geoffrey', 'Geoffry', 'Georg', 'George', 'Georges', 'Georgia', 'Georgie', 'Georgy', 'Gerald', 'Geraldo', 'Gerard', 'Gere', 'Gerhard', 'Gerhardt', 'Geri', 'Germaine', 'Gerold', 'Gerome', 'Gerrard', 'Gerri', 'Gerrit', 'Gerry', 'Gershom', 'Gershon', 'Giacomo', 'Gian', 'Giancarlo', 'Giavani', 'Gibb', 'Gideon', 'Giff', 'Giffard', 'Giffer', 'Giffie', 'Gifford', 'Giffy', 'Gil', 'Gilbert', 'Gilberto', 'Gilburt', 'Giles', 'Gill', 'Gilles', 'Ginger', 'Gino', 'Giordano', 'Giorgi', 'Giorgio', 'Giovanne', 'Giovanni', 'Giraldo', 'Giraud', 'Giuseppe', 'Glen', 'Glenn', 'Glynn', 'Godard', 'Godart', 'Goddard', 'Goddart', 'Godfree', 'Godfrey', 'Godfry', 'Godwin', 'Gomer', 'Gonzales', 'Gonzalo', 'Goober', 'Goose', 'Gordan', 'Gordie', 'Gordon', 'Grace', 'Grady', 'Graehme', 'Graeme', 'Graham', 'Graig', 'Grant', 'Granville', 'Greg', 'Gregg', 'Greggory', 'Gregor', 'Gregorio', 'Gregory', 'Gretchen', 'Griff', 'Griffin', 'Griffith', 'Griswold', 'Grove', 'Grover', 'Guido', 'Guillaume', 'Guillermo', 'Gunner', 'Gunter', 'Gunther', 'Gus', 'Gustaf', 'Gustav', 'Gustave', 'Gustavo', 'Gustavus', 'Guthrey', 'Guthrie', 'Guthry', 'Guy', 'Hadleigh', 'Hadley', 'Hadrian', 'Hagan', 'Hagen', 'Hailey', 'Hakeem', 'Hakim', 'Hal', 'Hale', 'Haleigh', 'Haley', 'Hall', 'Hallam', 'Halvard', 'Ham', 'Hamel', 'Hamid', 'Hamil', 'Hamilton', 'Hamish', 'Hamlen', 'Hamlet', 'Hamlin', 'Hammad', 'Hamnet', 'Han', 'Hanan', 'Hanford', 'Hank', 'Hannibal', 'Hans', 'Hans-Peter', 'Hansel', 'Hanson', 'Harald', 'Harcourt', 'Hari', 'Harlan', 'Harland', 'Harley', 'Harlin', 'Harman', 'Harmon', 'Harold', 'Harris', 'Harrison', 'Harrold', 'Harry', 'Hart', 'Hartley', 'Hartwell', 'Harv', 'Harvard', 'Harvey', 'Harvie', 'Harwell', 'Hasheem', 'Hashim', 'Haskel', 'Haskell', 'Hassan', 'Hastings', 'Hasty', 'Haven', 'Hayden', 'Haydon', 'Hayes', 'Hayward', 'Haywood', 'Hazel', 'Heath', 'Heathcliff', 'Hebert', 'Hector', 'Heinrich', 'Heinz', 'Helmuth', 'Henderson', 'Hendrick', 'Hendrik', 'Henri', 'Henrie', 'Henrik', 'Henrique', 'Henry', 'Herb', 'Herbert', 'Herbie', 'Herby', 'Hercule', 'Hercules', 'Herculie', 'Herman', 'Hermann', 'Hermon', 'Hermy', 'Hernando', 'Herold', 'Herrick', 'Herrmann', 'Hersch', 'Herschel', 'Hersh', 'Hershel', 'Herve', 'Hervey', 'Hew', 'Hewe', 'Hewet', 'Hewett', 'Hewie', 'Hewitt', 'Heywood', 'Hezekiah', 'Higgins', 'Hilary', 'Hilbert', 'Hill', 'Hillard', 'Hillary', 'Hillel', 'Hillery', 'Hilliard', 'Hilton', 'Hiralal', 'Hiram', 'Hiro', 'Hirsch', 'Hobart', 'Hodge', 'Hogan', 'Hollis', 'Holly', 'Homer', 'Horace', 'Horacio', 'Horatio', 'Horatius', 'Horst', 'Howard', 'Howie', 'Hoyt', 'Hubert', 'Hudson', 'Huey', 'Hugh', 'Hugo', 'Humbert', 'Humphrey', 'Hunt', 'Hunter', 'Huntington', 'Huntlee', 'Huntley', 'Hurley', 'Husain', 'Husein', 'Hussein', 'Hy', 'Hyatt', 'Hyman', 'Hymie', 'Iago', 'Iain', 'Ian', 'Ibrahim', 'Ichabod', 'Iggie', 'Iggy', 'Ignace', 'Ignacio', 'Ignacius', 'Ignatius', 'Ignaz', 'Ignazio', 'Igor', 'Ike', 'Ikey', 'Immanuel', 'Ingamar', 'Ingelbert', 'Ingemar', 'Inglebert', 'Ingmar', 'Ingram', 'Inigo', 'Ira', 'Irvin', 'Irvine', 'Irving', 'Irwin', 'Isa', 'Isaac', 'Isaak', 'Isador', 'Isadore', 'Isaiah', 'Ishmael', 'Isidore', 'Ismail', 'Israel', 'Istvan', 'Ivan', 'Ivor', 'Izaak', 'Izak', 'Izzy', 'Jabez', 'Jack', 'Jackie', 'Jackson', 'Jacob', 'Jacques', 'Jae', 'Jaime', 'Jake', 'Jakob', 'James', 'Jameson', 'Jamey', 'Jamie', 'Jan', 'Janos', 'Janus', 'Jared', 'Jarrett', 'Jarvis', 'Jason', 'Jasper', 'Javier', 'Jay', 'Jean', 'Jean-Christophe', 'Jean-Francois', 'Jean-Lou', 'Jean-Luc', 'Jean-Marc', 'Jean-Paul', 'Jean-Pierre', 'Jeb', 'Jed', 'Jedediah', 'Jef', 'Jeff', 'Jefferey', 'Jefferson', 'Jeffery', 'Jeffie', 'Jeffrey', 'Jeffry', 'Jefry', 'Jehu', 'Jennings', 'Jens', 'Jephthah', 'Jerald', 'Jeramie', 'Jere', 'Jereme', 'Jeremiah', 'Jeremias', 'Jeremie', 'Jeremy', 'Jermain', 'Jermaine', 'Jermayne', 'Jerold', 'Jerome', 'Jeromy', 'Jerri', 'Jerrie', 'Jerrold', 'Jerrome', 'Jerry', 'Jervis', 'Jerzy', 'Jess', 'Jesse', 'Jessee', 'Jessey', 'Jessie', 'Jesus', 'Jeth', 'Jethro', 'Jim', 'Jimbo', 'Jimmie', 'Jimmy', 'Jo', 'Joab', 'Joachim', 'Joao', 'Joaquin', 'Job', 'Jock', 'Jodi', 'Jodie', 'Jody', 'Joe', 'Joel', 'Joey', 'Johan', 'Johann', 'Johannes', 'John', 'John-David', 'John-Patrick', 'Johnathan', 'Johnathon', 'Johnnie', 'Johnny', 'Johny', 'Jon', 'Jonah', 'Jonas', 'Jonathan', 'Jonathon', 'Jonny', 'Jordan', 'Jordon', 'Jordy', 'Jorge', 'Jory', 'Jose', 'Josef', 'Joseph', 'Josephus', 'Josh', 'Joshua', 'Joshuah', 'Josiah', 'Jotham', 'Juan', 'Juanita', 'Jud', 'Judah', 'Judas', 'Judd', 'Jude', 'Judith', 'Judson', 'Judy', 'Juergen', 'Jule', 'Jules', 'Julian', 'Julie', 'Julio', 'Julius', 'Justin', 'Justis', 'Kaiser', 'Kaleb', 'Kalil', 'Kalle', 'Kalman', 'Kalvin', 'Kam', 'Kane', 'Kareem', 'Karel', 'Karim', 'Karl', 'Karsten', 'Kaspar', 'Keefe', 'Keenan', 'Keene', 'Keil', 'Keith', 'Kellen', 'Kelley', 'Kelly', 'Kelsey', 'Kelvin', 'Kelwin', 'Ken', 'Kendal', 'Kendall', 'Kendrick', 'Kenn', 'Kennedy', 'Kenneth', 'Kenny', 'Kent', 'Kenton', 'Kenyon', 'Kermie', 'Kermit', 'Kerry', 'Kevan', 'Kevin', 'Kim', 'Kimball', 'Kimmo', 'Kin', 'Kincaid', 'King', 'Kingsley', 'Kingsly', 'Kingston', 'Kip', 'Kirby', 'Kirk', 'Kit', 'Klaus', 'Klee', 'Knox', 'Konrad', 'Konstantin', 'Kory', 'Kostas', 'Kraig', 'Kris', 'Krishna', 'Kristian', 'Kristopher', 'Kristos', 'Kurt', 'Kurtis', 'Kyle', 'Laird', 'Lamar', 'Lambert', 'Lamont', 'Lance', 'Lancelot', 'Lane', 'Langston', 'Lanny', 'Larry', 'Lars', 'Laurance', 'Lauren', 'Laurence', 'Laurens', 'Laurent', 'Laurie', 'Lawerence', 'Lawrence', 'Lawson', 'Lawton', 'Lay', 'Layton', 'Lazar', 'Lazare', 'Lazaro', 'Lazarus', 'Lazlo', 'Lee', 'Lefty', 'Leif', 'Leigh', 'Leighton', 'Leland', 'Lem', 'Lemar', 'Lemmie', 'Lemmy', 'Lemuel', 'Len', 'Lenard', 'Lennie', 'Lenny', 'Leo', 'Leon', 'Leonard', 'Leonardo', 'Leonerd', 'Leonhard', 'Leonid', 'Leonidas', 'Leopold', 'Leroy', 'Les', 'Lesley', 'Leslie', 'Lester', 'Lev', 'Levi', 'Levin', 'Levon', 'Levy', 'Lew', 'Lewis', 'Lex', 'Liam', 'Lin', 'Lincoln', 'Lind', 'Lindsay', 'Lindsey', 'Lindy', 'Linoel', 'Linus', 'Lion', 'Lionel', 'Lionello', 'Llewellyn', 'Lloyd', 'Locke', 'Lockwood', 'Logan', 'Lon', 'Lonnie', 'Lonny', 'Loren', 'Lorenzo', 'Lorne', 'Lorrie', 'Lothar', 'Lou', 'Louie', 'Louis', 'Lovell', 'Lowell', 'Lucas', 'Luce', 'Lucian', 'Luciano', 'Lucien', 'Lucio', 'Lucius', 'Ludvig', 'Ludwig', 'Luigi', 'Luis', 'Lukas', 'Luke', 'Luther', 'Lyle', 'Lyn', 'Lyndon', 'Lynn', 'Mac', 'Mace', 'Mack', 'Mackenzie', 'Maddie', 'Maddy', 'Madison', 'Magnum', 'Magnus', 'Mahesh', 'Mahmoud', 'Mahmud', 'Maison', 'Major', 'Malcolm', 'Manfred', 'Manish', 'Manny', 'Manuel', 'Marc', 'Marcel', 'Marcello', 'Marcellus', 'Marcelo', 'Marchall', 'Marcio', 'Marco', 'Marcos', 'Marcus', 'Marietta', 'Marilu', 'Mario', 'Marion', 'Marius', 'Mark', 'Marko', 'Markos', 'Markus', 'Marlin', 'Marlo', 'Marlon', 'Marlow', 'Marlowe', 'Marmaduke', 'Marsh', 'Marshal', 'Marshall', 'Mart', 'Martainn', 'Marten', 'Martie', 'Martin', 'Martino', 'Marty', 'Martyn', 'Marv', 'Marve', 'Marven', 'Marvin', 'Marwin', 'Mason', 'Mateo', 'Mathew', 'Mathias', 'Matias', 'Matt', 'Matteo', 'Matthaeus', 'Mattheus', 'Matthew', 'Matthias', 'Matthieu', 'Matthiew', 'Matthus', 'Mattias', 'Mattie', 'Matty', 'Maurice', 'Mauricio', 'Maurie', 'Maurise', 'Maurits', 'Mauritz', 'Maury', 'Max', 'Maxfield', 'Maxie', 'Maxim', 'Maximilian', 'Maximilien', 'Maxwell', 'Mayer', 'Maynard', 'Maynord', 'Mayor', 'Mead', 'Meade', 'Meier', 'Meir', 'Mel', 'Melvin', 'Melvyn', 'Menard', 'Mendel', 'Mendie', 'Meredeth', 'Meredith', 'Merell', 'Merill', 'Merle', 'Merlin', 'Merrel', 'Merrick', 'Merril', 'Merrill', 'Merry', 'Merv', 'Mervin', 'Merwin', 'Meryl', 'Meyer', 'Mic', 'Micah', 'Michael', 'Michail', 'Michal', 'Michale', 'Micheal', 'Micheil', 'Michel', 'Michele', 'Mick', 'Mickey', 'Mickie', 'Micky', 'Miguel', 'Mika', 'Mikael', 'Mike', 'Mikel', 'Mikey', 'Mikhail', 'Miles', 'Millicent', 'Milo', 'Milt', 'Milton', 'Mischa', 'Mitch', 'Mitchael', 'Mitchel', 'Mitchell', 'Moe', 'Mohamad', 'Mohamed', 'Mohammad', 'Mohammed', 'Mohan', 'Moise', 'Moises', 'Moishe', 'Monroe', 'Montague', 'Monte', 'Montgomery', 'Monty', 'Moore', 'Mordecai', 'Morgan', 'Morlee', 'Morley', 'Morly', 'Morrie', 'Morris', 'Morry', 'Morse', 'Mort', 'Morten', 'Mortie', 'Mortimer', 'Morton', 'Morty', 'Mose', 'Moses', 'Moshe', 'Moss', 'Muffin', 'Mugsy', 'Muhammad', 'Munmro', 'Munroe', 'Murdoch', 'Murdock', 'Murphy', 'Murray', 'Mustafa', 'Myke', 'Myles', 'Mylo', 'Myron', 'Nahum', 'Napoleon', 'Nat', 'Natale', 'Nate', 'Nathan', 'Nathanael', 'Nathanial', 'Nathaniel', 'Nathanil', 'Neal', 'Neale', 'Neall', 'Nealon', 'Nealson', 'Nealy', 'Ned', 'Neddie', 'Neddy', 'Neel', 'Neil', 'Nels', 'Nelsen', 'Nelson', 'Nero', 'Neron', 'Nester', 'Nestor', 'Nev', 'Nevil', 'Nevile', 'Neville', 'Nevin', 'Nevins', 'Newton', 'Niall', 'Niccolo', 'Nicholas', 'Nichole', 'Nichols', 'Nick', 'Nickey', 'Nickie', 'Nickolas', 'Nicky', 'Nico', 'Nicolas', 'Niels', 'Nigel', 'Niki', 'Nikita', 'Nikki', 'Nikolai', 'Nikos', 'Niles', 'Nils', 'Nilson', 'Niven', 'Noach', 'Noah', 'Noam', 'Noble', 'Noe', 'Noel', 'Nolan', 'Noland', 'Norbert', 'Norm', 'Norman', 'Normand', 'Normie', 'Norris', 'Northrop', 'Northrup', 'Norton', 'Norwood', 'Nunzio', 'Obadiah', 'Obadias', 'Oberon', 'Obie', 'Octavius', 'Odell', 'Odie', 'Odin', 'Odysseus', 'Olaf', 'Olag', 'Ole', 'Oleg', 'Olin', 'Oliver', 'Olivier', 'Olle', 'Ollie', 'Omar', 'Oral', 'Oran', 'Orazio', 'Orbadiah', 'Oren', 'Orin', 'Orion', 'Orlando', 'Orren', 'Orrin', 'Orson', 'Orton', 'Orville', 'Osbert', 'Osborn', 'Osborne', 'Osbourn', 'Osbourne', 'Oscar', 'Osgood', 'Osmond', 'Osmund', 'Ossie', 'Oswald', 'Oswell', 'Otes', 'Othello', 'Otho', 'Otis', 'Otto', 'Owen', 'Ozzie', 'Ozzy', 'Pablo', 'Pace', 'Paco', 'Paddie', 'Paddy', 'Padraig', 'Page', 'Paige', 'Pail', 'Palmer', 'Paolo', 'Park', 'Parke', 'Parker', 'Parnell', 'Parrnell', 'Parry', 'Parsifal', 'Partha', 'Pascal', 'Pascale', 'Pasquale', 'Pat', 'Pate', 'Patel', 'Paten', 'Patin', 'Paton', 'Patric', 'Patrice', 'Patricio', 'Patrick', 'Patrik', 'Patsy', 'Pattie', 'Patty', 'Paul', 'Paulo', 'Pavel', 'Pearce', 'Pedro', 'Peirce', 'Pembroke', 'Pen', 'Penn', 'Pennie', 'Penny', 'Penrod', 'Pepe', 'Pepillo', 'Pepito', 'Perceval', 'Percival', 'Percy', 'Perry', 'Pete', 'Peter', 'Petey', 'Petr', 'Peyter', 'Peyton', 'Phil', 'Philbert', 'Philip', 'Phillip', 'Phillipe', 'Phillipp', 'Phineas', 'Phip', 'Pierce', 'Pierre', 'Pierson', 'Piet', 'Pieter', 'Pietro', 'Piggy', 'Pincas', 'Pinchas', 'Pincus', 'Piotr', 'Pip', 'Plato', 'Pooh', 'Porter', 'Poul', 'Powell', 'Praneetf', 'Prasad', 'Prasun', 'Prent', 'Prentice', 'Prentiss', 'Prescott', 'Preston', 'Price', 'Prince', 'Pryce', 'Puff', 'Purcell', 'Putnam', 'Pyotr', 'Quent', 'Quentin', 'Quiggly', 'Quigly', 'Quigman', 'Quill', 'Quillan', 'Quincey', 'Quincy', 'Quinlan', 'Quinn', 'Quint', 'Quintin', 'Quinton', 'Quintus', 'Rab', 'Rabbi', 'Rabi', 'Rad', 'Radcliffe', 'Rafael', 'Rafe', 'Ragnar', 'Rahul', 'Raimund', 'Rainer', 'Raj', 'Rajeev', 'Raleigh', 'Ralf', 'Ralph', 'Ram', 'Ramesh', 'Ramon', 'Ramsay', 'Ramsey', 'Rand', 'Randal', 'Randall', 'Randell', 'Randi', 'Randie', 'Randolf', 'Randolph', 'Randy', 'Ransell', 'Ransom', 'Raoul', 'Raphael', 'Raul', 'Ravi', 'Ravil', 'Rawley', 'Ray', 'Raymond', 'Raymund', 'Raymundo', 'Raynard', 'Rayner', 'Raynor', 'Reagan', 'Red', 'Redford', 'Redmond', 'Reece', 'Reed', 'Rees', 'Reese', 'Reg', 'Regan', 'Regen', 'Reggie', 'Reggis', 'Reggy', 'Reginald', 'Reginauld', 'Reid', 'Reilly', 'Reinhard', 'Reinhold', 'Rem', 'Remington', 'Remus', 'Renado', 'Renaldo', 'Renard', 'Renato', 'Renaud', 'Renault', 'Rene', 'Reube', 'Reuben', 'Reuven', 'Rex', 'Rey', 'Reynard', 'Reynold', 'Reynolds', 'Reza', 'Rhett', 'Ric', 'Ricard', 'Ricardo', 'Riccardo', 'Rice', 'Rich', 'Richard', 'Richardo', 'Richie', 'Richmond', 'Richy', 'Rick', 'Rickard', 'Rickey', 'Ricki', 'Rickie', 'Ricky', 'Rik', 'Rikki', 'Riley', 'Rinaldo', 'Ripley', 'Ritch', 'Ritchie', 'Roarke', 'Rob', 'Robb', 'Robbert', 'Robbie', 'Robert', 'Roberto', 'Robin', 'Robinson', 'Rochester', 'Rock', 'Rockwell', 'Rocky', 'Rod', 'Rodd', 'Roddie', 'Roddy', 'Roderic', 'Roderich', 'Roderick', 'Roderigo', 'Rodge', 'Rodger', 'Rodney', 'Rodolfo', 'Rodolph', 'Rodolphe', 'Rodrick', 'Rodrigo', 'Rodrique', 'Rog', 'Roger', 'Rogers', 'Roice', 'Roland', 'Rolando', 'Rolf', 'Rolfe', 'Rolland', 'Rollin', 'Rollins', 'Rollo', 'Rolph', 'Romain', 'Roman', 'Romeo', 'Ron', 'Ronald', 'Ronen', 'Roni', 'Ronnie', 'Ronny', 'Roosevelt', 'Rory', 'Roscoe', 'Ross', 'Roth', 'Rourke', 'Rowland', 'Roy', 'Royal', 'Royce', 'Rube', 'Ruben', 'Rubin', 'Ruby', 'Rudd', 'Ruddie', 'Ruddy', 'Rudie', 'Rudiger', 'Rudolf', 'Rudolfo', 'Rudolph', 'Rudy', 'Rudyard', 'Rufe', 'Rufus', 'Rupert', 'Ruperto', 'Russ', 'Russel', 'Russell', 'Rustie', 'Rustin', 'Rusty', 'Rutger', 'Rutherford', 'Rutledge', 'Rutter', 'Ryan', 'Sal', 'Salem', 'Salim', 'Salman', 'Salmon', 'Salomo', 'Salomon', 'Salomone', 'Salvador', 'Salvatore', 'Salvidor', 'Sam', 'Sammie', 'Sammy', 'Sampson', 'Samson', 'Samuel', 'Samuele', 'Sancho', 'Sander', 'Sanders', 'Sanderson', 'Sandor', 'Sandro', 'Sandy', 'Sanford', 'Sanson', 'Sansone', 'Sarge', 'Sargent', 'Sascha', 'Sasha', 'Saul', 'Sauncho', 'Saunder', 'Saunders', 'Saunderson', 'Saundra', 'Saw', 'Sawyer', 'Sawyere', 'Sax', 'Saxe', 'Saxon', 'Say', 'Sayer', 'Sayers', 'Sayre', 'Sayres', 'Scarface', 'Schroeder', 'Schuyler', 'Scot', 'Scott', 'Scotti', 'Scottie', 'Scotty', 'Seamus', 'Sean', 'Sebastian', 'Sebastiano', 'Sebastien', 'See', 'Selby', 'Selig', 'Serge', 'Sergeant', 'Sergei', 'Sergent', 'Sergio', 'Seth', 'Seymour', 'Shadow', 'Shaine', 'Shalom', 'Shamus', 'Shanan', 'Shane', 'Shannan', 'Shannon', 'Shaughn', 'Shaun', 'Shaw', 'Shawn', 'Shay', 'Shayne', 'Shea', 'Sheff', 'Sheffie', 'Sheffield', 'Sheffy', 'Shelby', 'Shelden', 'Sheldon', 'Shell', 'Shelley', 'Shelton', 'Shem', 'Shep', 'Shepard', 'Shepherd', 'Sheppard', 'Shepperd', 'Sheridan', 'Sherlock', 'Sherlocke', 'Sherman', 'Sherwin', 'Sherwood', 'Sherwynd', 'Shimon', 'Shlomo', 'Sholom', 'Shorty', 'Shumeet', 'Shurlock', 'Shurlocke', 'Shurwood', 'Si', 'Sibyl', 'Sid', 'Siddhartha', 'Sidnee', 'Sidney', 'Siegfried', 'Siffre', 'Sig', 'Sigfrid', 'Sigfried', 'Sigmund', 'Silas', 'Silvain', 'Silvan', 'Silvano', 'Silvanus', 'Silvester', 'Silvio', 'Sim', 'Simeon', 'Simmonds', 'Simon', 'Simone', 'Sinclair', 'Sinclare', 'Sivert', 'Siward', 'Skell', 'Skelly', 'Skip', 'Skipp', 'Skipper', 'Skippie', 'Skippy', 'Skipton', 'Sky', 'Skye', 'Skylar', 'Skyler', 'Slade', 'Slim', 'Sloan', 'Sloane', 'Sly', 'Smith', 'Smitty', 'Socrates', 'Sol', 'Sollie', 'Solly', 'Solomon', 'Somerset', 'Son', 'Sonnie', 'Sonny', 'Sparky', 'Spence', 'Spencer', 'Spense', 'Spenser', 'Spike', 'Spiro', 'Spiros', 'Spud', 'Srinivas', 'Stacy', 'Staffard', 'Stafford', 'Staford', 'Stan', 'Standford', 'Stanfield', 'Stanford', 'Stanislaw', 'Stanleigh', 'Stanley', 'Stanly', 'Stanton', 'Stanwood', 'Stavros', 'Stearn', 'Stearne', 'Stefan', 'Stefano', 'Steffen', 'Stephan', 'Stephanus', 'Stephen', 'Sterling', 'Stern', 'Sterne', 'Steve', 'Steven', 'Stevie', 'Stevy', 'Stew', 'Steward', 'Stewart', 'Stig', 'Stillman', 'Stillmann', 'Sting', 'Stinky', 'Stirling', 'Stu', 'Stuart', 'Sturgis', 'Sullivan', 'Sully', 'Sumner', 'Sunny', 'Sutherland', 'Sutton', 'Sven', 'Swen', 'Syd', 'Sydney', 'Sylvan', 'Sylvester', 'Tab', 'Tabb', 'Tabbie', 'Tabby', 'Taber', 'Tabor', 'Tad', 'Tadd', 'Taddeo', 'Taddeus', 'Tadeas', 'Tailor', 'Tait', 'Taite', 'Talbert', 'Talbot', 'Tallie', 'Tally', 'Tam', 'Tamas', 'Tammie', 'Tammy', 'Tan', 'Tann', 'Tanner', 'Tanney', 'Tannie', 'Tanny', 'Tarrance', 'Tarrant', 'Tarzan', 'Tate', 'Taylor', 'Teador', 'Ted', 'Tedd', 'Teddie', 'Teddy', 'Tedie', 'Tedman', 'Tedmund', 'Tedrick', 'Temp', 'Temple', 'Templeton', 'Teodoor', 'Teodor', 'Teodorico', 'Teodoro', 'Terence', 'Terencio', 'Terrance', 'Terrel', 'Terrell', 'Terrence', 'Terri', 'Terrill', 'Terry', 'Thacher', 'Thad', 'Thaddeus', 'Thaddius', 'Thaddus', 'Thadeus', 'Thain', 'Thaine', 'Thane', 'Tharen', 'Thatch', 'Thatcher', 'Thaxter', 'Thayne', 'Thebault', 'Thedric', 'Thedrick', 'Theo', 'Theobald', 'Theodor', 'Theodore', 'Theodoric', 'Theophyllus', 'Thibaud', 'Thibaut', 'Thom', 'Thomas', 'Thor', 'Thorn', 'Thorndike', 'Thornie', 'Thornton', 'Thorny', 'Thorpe', 'Thorstein', 'Thorsten', 'Thorvald', 'Thurstan', 'Thurston', 'Tibold', 'Tiebold', 'Tiebout', 'Tiler', 'Tim', 'Timmie', 'Timmy', 'Timothee', 'Timotheus', 'Timothy', 'Tirrell', 'Tito', 'Titos', 'Titus', 'Tobe', 'Tobiah', 'Tobias', 'Tobie', 'Tobin', 'Tobit', 'Toby', 'Tod', 'Todd', 'Toddie', 'Toddy', 'Tom', 'Tomas', 'Tome', 'Tomkin', 'Tomlin', 'Tommie', 'Tommy', 'Tonnie', 'Tony', 'Tore', 'Torey', 'Torin', 'Torr', 'Torrance', 'Torre', 'Torrence', 'Torrey', 'Torrin', 'Torry', 'Town', 'Towney', 'Townie', 'Townsend', 'Towny', 'Trace', 'Tracey', 'Tracie', 'Tracy', 'Traver', 'Travers', 'Travis', 'Tray', 'Tre', 'Tremain', 'Tremaine', 'Tremayne', 'Trent', 'Trenton', 'Trev', 'Trevar', 'Trever', 'Trevor', 'Trey', 'Trip', 'Tristan', 'Troy', 'Truman', 'Tuck', 'Tucker', 'Tuckie', 'Tucky', 'Tudor', 'Tull', 'Tulley', 'Tully', 'Turner', 'Ty', 'Tybalt', 'Tye', 'Tyler', 'Tymon', 'Tymothy', 'Tynan', 'Tyrone', 'Tyrus', 'Tyson', 'Udale', 'Udall', 'Udell', 'Ugo', 'Ulberto', 'Uli', 'Ulick', 'Ulises', 'Ulric', 'Ulrich', 'Ulrick', 'Ulysses', 'Umberto', 'Upton', 'Urbain', 'Urban', 'Urbano', 'Urbanus', 'Uri', 'Uriah', 'Uriel', 'Urson', 'Vachel', 'Vaclav', 'Vail', 'Val', 'Valdemar', 'Vale', 'Valentin', 'Valentine', 'Van', 'Vance', 'Vasili', 'Vasilis', 'Vasily', 'Vassili', 'Vassily', 'Vaughan', 'Vaughn', 'Venkat', 'Verge', 'Vergil', 'Vern', 'Verne', 'Vernen', 'Verney', 'Vernon', 'Vernor', 'Vibhu', 'Vic', 'Vick', 'Victor', 'Vijay', 'Vilhelm', 'Vin', 'Vince', 'Vincent', 'Vincents', 'Vinnie', 'Vinny', 'Vinod', 'Virge', 'Virgie', 'Virgil', 'Virgilio', 'Vite', 'Vito', 'Vlad', 'Vladamir', 'Vladimir', 'Voltaire', 'Von', 'Wade', 'Wadsworth', 'Wain', 'Waine', 'Wainwright', 'Wait', 'Waite', 'Waiter', 'Wake', 'Wakefield', 'Wald', 'Waldemar', 'Walden', 'Waldo', 'Waldon', 'Waleed', 'Walker', 'Wallace', 'Wallache', 'Wallas', 'Wallie', 'Wallis', 'Wally', 'Walsh', 'Walt', 'Walter', 'Walther', 'Walton', 'Wang', 'Ward', 'Warde', 'Warden', 'Ware', 'Waring', 'Warner', 'Warren', 'Wash', 'Washington', 'Wat', 'Waverley', 'Waverly', 'Way', 'Waylan', 'Wayland', 'Waylen', 'Waylin', 'Waylon', 'Wayne', 'Web', 'Webb', 'Weber', 'Webster', 'Weidar', 'Weider', 'Welbie', 'Welby', 'Welch', 'Wells', 'Welsh', 'Wendall', 'Wendel', 'Wendell', 'Werner', 'Wes', 'Wesley', 'Weslie', 'West', 'Westbrook', 'Westbrooke', 'Westleigh', 'Westley', 'Weston', 'Weylin', 'Wheeler', 'Whit', 'Whitaker', 'Whitby', 'Whitman', 'Whitney', 'Whittaker', 'Wiatt', 'Wilber', 'Wilbert', 'Wilbur', 'Wilburn', 'Wilburt', 'Wilden', 'Wildon', 'Wilek', 'Wiley', 'Wilfred', 'Wilfrid', 'Wilhelm', 'Will', 'Willard', 'Willdon', 'Willem', 'Willey', 'Willi', 'William', 'Willie', 'Willis', 'Willmott', 'Willy', 'Wilmar', 'Wilmer', 'Wilson', 'Wilt', 'Wilton', 'Win', 'Windham', 'Winfield', 'Winford', 'Winfred', 'Winifield', 'Winn', 'Winnie', 'Winny', 'Winslow', 'Winston', 'Winthrop', 'Winton', 'Wit', 'Witold', 'Wittie', 'Witty', 'Wojciech', 'Wolf', 'Wolfgang', 'Wolfie', 'Wolfram', 'Wolfy', 'Woochang', 'Wood', 'Woodie', 'Woodman', 'Woodrow', 'Woody', 'Worden', 'Worth', 'Worthington', 'Worthy', 'Wright', 'Wyatan', 'Wyatt', 'Wye', 'Wylie', 'Wyn', 'Wyndham', 'Wynn', 'Wynton', 'Xavier', 'Xenos', 'Xerxes', 'Xever', 'Ximenes', 'Ximenez', 'Xymenes', 'Yaakov', 'Yacov', 'Yale', 'Yanaton', 'Yance', 'Yancey', 'Yancy', 'Yank', 'Yankee', 'Yard', 'Yardley', 'Yehudi', 'Yigal', 'Yule', 'Yuri', 'Yves', 'Zach', 'Zacharia', 'Zachariah', 'Zacharias', 'Zacharie', 'Zachary', 'Zacherie', 'Zachery', 'Zack', 'Zackariah', 'Zak', 'Zalman', 'Zane', 'Zared', 'Zary', 'Zeb', 'Zebadiah', 'Zebedee', 'Zebulen', 'Zebulon', 'Zechariah', 'Zed', 'Zedekiah', 'Zeke', 'Zelig', 'Zerk', 'Zeus', 'Zippy', 'Zollie', 'Zolly', 'Zorro']\n"
     ]
    }
   ],
   "source": [
    "from nltk.corpus import names\n",
    "for fileid in names.fileids():\n",
    "    n_words = len(names.words(fileid))\n",
    "    print(n_words)\n",
    "print(names.words('male.txt'))"
   ]
  },
  {
   "cell_type": "code",
   "execution_count": 45,
   "metadata": {},
   "outputs": [
    {
     "name": "stdout",
     "output_type": "stream",
     "text": [
      "35576\n",
      "20293\n"
     ]
    }
   ],
   "source": [
    "for fileid in names.fileids():\n",
    "    n_chars = len(names.raw(fileid))\n",
    "    print(n_chars)"
   ]
  },
  {
   "cell_type": "code",
   "execution_count": 14,
   "metadata": {},
   "outputs": [
    {
     "data": {
      "text/plain": [
       "[('e', 1958),\n",
       " ('a', 1683),\n",
       " ('r', 1631),\n",
       " ('n', 1302),\n",
       " ('i', 1248),\n",
       " ('l', 1135),\n",
       " ('o', 1129),\n",
       " ('t', 857),\n",
       " ('s', 804),\n",
       " ('d', 757),\n",
       " ('h', 630),\n",
       " ('m', 566),\n",
       " ('c', 500),\n",
       " ('y', 492),\n",
       " ('u', 434),\n",
       " ('b', 388),\n",
       " ('g', 362),\n",
       " ('w', 259),\n",
       " ('k', 254),\n",
       " ('f', 239),\n",
       " ('p', 211),\n",
       " ('v', 204),\n",
       " ('j', 163),\n",
       " ('z', 79),\n",
       " ('x', 33),\n",
       " ('q', 22)]"
      ]
     },
     "execution_count": 14,
     "metadata": {},
     "output_type": "execute_result"
    }
   ],
   "source": [
    "from nltk.probability import FreqDist as fd\n",
    "from nltk.tokenize import word_tokenize as wt\n",
    "first_gen = names.words('male.txt')\n",
    "first_gen = wt(str((first_gen)))\n",
    "import string\n",
    "string.punctuation\n",
    "'!\"#$%&\\'()*+,-./:;<=>?@[\\\\]^_`{|}~'\n",
    "first_gen_no_punct = []\n",
    "first_gen_words = []\n",
    "for i in first_gen:\n",
    "    for j in list(string.punctuation):\n",
    "        i = i.replace(j,'').lower()\n",
    "    first_gen_no_punct.append(i)\n",
    "for i in first_gen_no_punct:\n",
    "    if i.isalpha():\n",
    "        first_gen_words.append(i)\n",
    "word_dict = dict(fd(first_gen_words).most_common())\n",
    "fd(first_gen_words).most_common()\n",
    "letters = []\n",
    "for i in str(first_gen_words):\n",
    "    if i.isalpha():\n",
    "        letters.append(i)\n",
    "fd(letters).most_common()"
   ]
  },
  {
   "cell_type": "code",
   "execution_count": 20,
   "metadata": {},
   "outputs": [
    {
     "name": "stderr",
     "output_type": "stream",
     "text": [
      "C:\\Users\\SiyaPransh\\AppData\\Local\\Temp\\ipykernel_25304\\4103198320.py:10: UserWarning: FigureCanvasAgg is non-interactive, and thus cannot be shown\n",
      "  plt.figure.show()\n"
     ]
    },
    {
     "data": {
      "image/png": "[encoded data removed]",
      "text/plain": [
       "<Figure size 640x480 with 1 Axes>"
      ]
     },
     "metadata": {},
     "output_type": "display_data"
    }
   ],
   "source": [
    "import pandas as pd\n",
    "import numpy as np\n",
    "import matplotlib.pyplot as plt\n",
    "letter_dict = dict(fd(letters).most_common())\n",
    "most_common_letters = pd.DataFrame(\n",
    "    {\"Frequency Distribution of Letters\":  list(letter_dict.values())}, \n",
    "    index=list(letter_dict.keys()))\n",
    "plt = most_common_letters.plot(kind=\"bar\")\n",
    "plt.figure.savefig('FrequencyOfNamesOfEachAlphabet.png')\n",
    "plt.figure.show()"
   ]
  },
  {
   "cell_type": "code",
   "execution_count": null,
   "metadata": {},
   "outputs": [],
   "source": []
  }
 ],
 "metadata": {
  "kernelspec": {
   "display_name": "Python 3 (ipykernel)",
   "language": "python",
   "name": "python3"
  },
  "language_info": {
   "codemirror_mode": {
    "name": "ipython",
    "version": 3
   },
   "file_extension": ".py",
   "mimetype": "text/x-python",
   "name": "python",
   "nbconvert_exporter": "python",
   "pygments_lexer": "ipython3",
   "version": "3.12.7"
  }
 },
 "nbformat": 4,
 "nbformat_minor": 4
}
