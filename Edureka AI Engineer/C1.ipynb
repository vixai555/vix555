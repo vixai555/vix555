{
 "cells": [
  {
   "cell_type": "code",
   "execution_count": 1,
   "id": "1a467ba0-1934-47fc-8b88-92cfd3692941",
   "metadata": {},
   "outputs": [
    {
     "name": "stdout",
     "output_type": "stream",
     "text": [
      "C:\\Users\\SiyaPransh\\Edureka AI Engineer\n"
     ]
    }
   ],
   "source": [
    "# Case Study 1 Problems Week 1\n",
    "#1\n",
    "import os\n",
    "cwd = os.getcwd()\n",
    "print(cwd)"
   ]
  },
  {
   "cell_type": "code",
   "execution_count": 2,
   "id": "0bf231ea-9903-4a65-acdb-9eb47756c9f9",
   "metadata": {},
   "outputs": [],
   "source": [
    "os.chdir(r'C:\\Users\\SiyaPransh\\Edureka AI Engineer\\Text Mining and NLP')"
   ]
  },
  {
   "cell_type": "code",
   "execution_count": 3,
   "id": "2e5678eb-d9a9-4fec-8e8c-0e991d426b92",
   "metadata": {},
   "outputs": [
    {
     "name": "stdout",
     "output_type": "stream",
     "text": [
      "Welcome to Text Mining and Natural Language Processing1\n"
     ]
    }
   ],
   "source": [
    "#2\n",
    "f = open(\"Greetings.txt\", \"w\")\n",
    "f.write(\"Welcome to Text Mining and Natural Language Processing\")\n",
    "f.close()\n",
    "os.rename(\"Greetings.txt\",\"Welcome.txt\")\n",
    "f = open(\"Welcome.txt\", \"r\")\n",
    "print(f.read())"
   ]
  },
  {
   "cell_type": "code",
   "execution_count": 32,
   "id": "942fcb78-f6ff-400f-9015-608b58316933",
   "metadata": {},
   "outputs": [
    {
     "name": "stdout",
     "output_type": "stream",
     "text": [
      "Collecting python-docxNote: you may need to restart the kernel to use updated packages.\n",
      "\n",
      "  Downloading python_docx-1.1.2-py3-none-any.whl.metadata (2.0 kB)\n",
      "Requirement already satisfied: lxml>=3.1.0 in c:\\users\\siyapransh\\anaconda3\\lib\\site-packages (from python-docx) (5.2.1)\n",
      "Requirement already satisfied: typing-extensions>=4.9.0 in c:\\users\\siyapransh\\anaconda3\\lib\\site-packages (from python-docx) (4.11.0)\n",
      "Downloading python_docx-1.1.2-py3-none-any.whl (244 kB)\n",
      "Installing collected packages: python-docx\n",
      "Successfully installed python-docx-1.1.2\n"
     ]
    }
   ],
   "source": [
    "pip install python-docx"
   ]
  },
  {
   "cell_type": "code",
   "execution_count": 9,
   "id": "8cc98b51-5504-46ec-881c-d2459e579aac",
   "metadata": {},
   "outputs": [
    {
     "name": "stdout",
     "output_type": "stream",
     "text": [
      "26\n"
     ]
    }
   ],
   "source": [
    "#3\n",
    "import docx\n",
    "doc = docx.Document(\"NLP.docx\")\n",
    "print(len(doc.paragraphs))"
   ]
  },
  {
   "cell_type": "code",
   "execution_count": 42,
   "id": "6d7cc882-0f68-4148-a277-fb553abc2cd4",
   "metadata": {},
   "outputs": [
    {
     "data": {
      "text/plain": [
       "<docx.text.paragraph.Paragraph at 0x1fff0c30aa0>"
      ]
     },
     "execution_count": 42,
     "metadata": {},
     "output_type": "execute_result"
    }
   ],
   "source": [
    "doc.add_paragraph(\"Welcome to Text Mining and Natural Language Processing1\")"
   ]
  },
  {
   "cell_type": "code",
   "execution_count": 20,
   "id": "b37bdf84-7f64-41cf-8e9c-2bb364a4d170",
   "metadata": {},
   "outputs": [
    {
     "name": "stdout",
     "output_type": "stream",
     "text": [
      "No. of Paragraphs 26\n",
      "No. of Words in Paragraph 1 - 511\n",
      "No. of Words in Paragraph 2 - 355\n",
      "No. of Words in Paragraph 3 - 769\n",
      "No. of Words in Paragraph 4 - 170\n",
      "No. of Words in Paragraph 5 - 41\n",
      "No. of Words in Paragraph 6 - 478\n",
      "No. of Words in Paragraph 7 - 273\n",
      "No. of Words in Paragraph 8 - 433\n",
      "No. of Words in Paragraph 9 - 301\n",
      "No. of Words in Paragraph 10 - 316\n",
      "No. of Words in Paragraph 11 - 55\n",
      "No. of Words in Paragraph 12 - 443\n",
      "No. of Words in Paragraph 13 - 248\n",
      "No. of Words in Paragraph 14 - 522\n",
      "No. of Words in Paragraph 15 - 600\n",
      "No. of Words in Paragraph 16 - 43\n",
      "No. of Words in Paragraph 17 - 343\n",
      "No. of Words in Paragraph 18 - 662\n",
      "No. of Words in Paragraph 19 - 235\n",
      "No. of Words in Paragraph 20 - 368\n",
      "No. of Words in Paragraph 21 - 369\n",
      "No. of Words in Paragraph 22 - 42\n",
      "No. of Words in Paragraph 23 - 537\n",
      "No. of Words in Paragraph 24 - 576\n",
      "No. of Words in Paragraph 25 - 472\n",
      "No. of Words in Paragraph 26 - 405\n"
     ]
    }
   ],
   "source": [
    "#3\n",
    "from nltk.tokenize import word_tokenize as wt\n",
    "doc = docx.Document(\"NLP.docx\")\n",
    "no_of_para = len(doc.paragraphs)\n",
    "print(\"No. of Paragraphs \" + str(no_of_para))\n",
    "for x in range(no_of_para):\n",
    "    print (\"No. of Words in Paragraph \" + str(x+1) + \" -\", end = \" \")\n",
    "    no_of_words_in_para = len(doc.paragraphs[x].text)\n",
    "    print(no_of_words_in_para)"
   ]
  },
  {
   "cell_type": "code",
   "execution_count": 84,
   "id": "19d511d2-a0a0-4b68-aa93-6d33c5596a8c",
   "metadata": {},
   "outputs": [
    {
     "name": "stdout",
     "output_type": "stream",
     "text": [
      "Original Table\n",
      "              Name  Age  Salary\n",
      "0      Arjun singh   24   10000\n",
      "1       Vibhor Jha   26   25000\n",
      "2  Yoshita Debnath   23   15000\n",
      "3   Abhitesh Setia   25   18000\n",
      "4    Shaurya Nayar   26   30000\n",
      "5      Disha Gupta   27   23000\n",
      "Split Table\n",
      "  First Name Last Name  Age  Salary\n",
      "0      Arjun     singh   24   10000\n",
      "1     Vibhor       Jha   26   25000\n",
      "2    Yoshita   Debnath   23   15000\n",
      "3   Abhitesh     Setia   25   18000\n",
      "4    Shaurya     Nayar   26   30000\n",
      "5      Disha     Gupta   27   23000\n"
     ]
    }
   ],
   "source": [
    "#4\n",
    "import pandas as pd\n",
    "df = pd.read_csv(\"EmployeeDetails.csv\")\n",
    "#View the first 5 rows\n",
    "df.head()\n",
    "df.keys()\n",
    "print(\"Original Table\")\n",
    "print(df)\n",
    "df_name = df.drop('Age', axis=1)\n",
    "df_name = df_name.drop('Salary', axis=1)\n",
    "df_name[['First Name', 'Last Name']] = df_name['Name'].str.split(' ', expand=True)\n",
    "\n",
    "df_name = df_name.drop('Name', axis=1)\n",
    "df = df.drop('Name', axis=1)\n",
    "#print(df_name)\n",
    "df_final = df_name.join(df)\n",
    "print(\"Split Name Table\")\n",
    "print(df_final)"
   ]
  },
  {
   "cell_type": "code",
   "execution_count": 85,
   "id": "90d17b12-4ed6-4660-b7b7-e32fcf0b25a2",
   "metadata": {},
   "outputs": [
    {
     "name": "stdout",
     "output_type": "stream",
     "text": [
      "  First Name Last Name  Age   Salary\n",
      "0      Arjun     singh   24  11000.0\n",
      "1     Vibhor       Jha   26  27500.0\n",
      "2    Yoshita   Debnath   23  16500.0\n",
      "3   Abhitesh     Setia   25  19800.0\n",
      "4    Shaurya     Nayar   26  33000.0\n",
      "5      Disha     Gupta   27  25300.0\n"
     ]
    }
   ],
   "source": [
    "Salary_column = df_final['Salary']\n",
    "\n",
    "def Salary_inc(x):\n",
    "    x=x*1.1\n",
    "    return x\n",
    "\n",
    "Salary_column = Salary_column.apply(Salary_inc)\n",
    "\n",
    "df_final['Salary'] = Salary_column\n",
    "print(df_final)"
   ]
  },
  {
   "cell_type": "code",
   "execution_count": 87,
   "id": "35344e6f-f337-4baa-a70b-17a022b04b5a",
   "metadata": {},
   "outputs": [],
   "source": [
    "f = open(\"Employee_Data1.csv\", \"w\")\n",
    "f.write(str(df_final))\n",
    "f.close()"
   ]
  }
 ],
 "metadata": {
  "kernelspec": {
   "display_name": "Python 3 (ipykernel)",
   "language": "python",
   "name": "python3"
  },
  "language_info": {
   "codemirror_mode": {
    "name": "ipython",
    "version": 3
   },
   "file_extension": ".py",
   "mimetype": "text/x-python",
   "name": "python",
   "nbconvert_exporter": "python",
   "pygments_lexer": "ipython3",
   "version": "3.12.7"
  }
 },
 "nbformat": 4,
 "nbformat_minor": 5
}
