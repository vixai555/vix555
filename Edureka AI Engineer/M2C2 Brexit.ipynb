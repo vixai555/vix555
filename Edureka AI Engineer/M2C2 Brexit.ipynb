{
 "cells": [
  {
   "cell_type": "code",
   "execution_count": 2,
   "id": "124d6699-9c0e-4ef9-9433-ba154149938d",
   "metadata": {},
   "outputs": [
    {
     "name": "stderr",
     "output_type": "stream",
     "text": [
      "[nltk_data] Downloading package averaged_perceptron_tagger_eng to\n",
      "[nltk_data]     C:\\Users\\SiyaPransh/nltk_data...\n",
      "[nltk_data]   Package averaged_perceptron_tagger_eng is already up-to-\n",
      "[nltk_data]       date!\n"
     ]
    }
   ],
   "source": [
    "#Module 2:Extracting , Cleaning and Preprocessing Data Case Study 2 - Brexit\n",
    "\n",
    "import docx\n",
    "nltk.download('averaged_perceptron_tagger_eng')\n",
    "doc = docx.Document(\"Brexit.docx\")\n",
    "#print(len(doc.paragraphs))"
   ]
  },
  {
   "cell_type": "code",
   "execution_count": 3,
   "id": "1e7e056e-bd9e-4bf4-9f36-e270a13b009b",
   "metadata": {},
   "outputs": [
    {
     "name": "stdin",
     "output_type": "stream",
     "text": [
      "Enter No. for Ngrams:  2\n"
     ]
    },
    {
     "name": "stdout",
     "output_type": "stream",
     "text": [
      "Ngrams Para 1\n",
      "[('Brexit', 'is'), ('is', 'the'), ('the', 'impending'), ('impending', 'withdrawal'), ('withdrawal', 'of'), ('of', 'the'), ('the', 'United'), ('United', 'Kingdom'), ('Kingdom', '('), ('(', 'UK'), ('UK', ')'), (')', 'from'), ('from', 'the'), ('the', 'European'), ('European', 'Union'), ('Union', '('), ('(', 'EU'), ('EU', ')'), (')', '.'), ('.', 'In'), ('In', 'a'), ('a', 'referendum'), ('referendum', 'on'), ('on', '23'), ('23', 'June'), ('June', '2016'), ('2016', ','), (',', 'a'), ('a', 'majority'), ('majority', 'of'), ('of', 'British'), ('British', 'voters'), ('voters', 'supported'), ('supported', 'leaving'), ('leaving', 'the'), ('the', 'EU'), ('EU', '.'), ('.', 'On'), ('On', '29'), ('29', 'March'), ('March', '2017'), ('2017', ','), (',', 'the'), ('the', 'UK'), ('UK', 'government'), ('government', 'invoked'), ('invoked', 'Article'), ('Article', '50'), ('50', 'of'), ('of', 'the'), ('the', 'Treaty'), ('Treaty', 'on'), ('on', 'European'), ('European', 'Union'), ('Union', '.'), ('.', 'The'), ('The', 'European'), ('European', 'Union'), ('Union', '('), ('(', 'Withdrawal'), ('Withdrawal', ')'), (')', 'Act'), ('Act', '2018'), ('2018', 'declares'), ('declares', '``'), ('``', 'exit'), ('exit', 'day'), ('day', \"''\"), (\"''\", 'to'), ('to', 'be'), ('be', '29'), ('29', 'March'), ('March', '2019'), ('2019', 'at'), ('at', '11'), ('11', 'p.m.'), ('p.m.', '('), ('(', 'Central'), ('Central', 'European'), ('European', 'Time'), ('Time', ')'), (')', '.')]\n",
      "Ngrams Para 2\n",
      "[('Prime', 'Minister'), ('Minister', 'Theresa'), ('Theresa', 'May'), ('May', 'announced'), ('announced', 'the'), ('the', 'government'), ('government', \"'s\"), (\"'s\", 'intention'), ('intention', 'not'), ('not', 'to'), ('to', 'seek'), ('seek', 'permanent'), ('permanent', 'membership'), ('membership', 'of'), ('of', 'the'), ('the', 'European'), ('European', 'single'), ('single', 'market'), ('market', 'or'), ('or', 'the'), ('the', 'EU'), ('EU', 'customs'), ('customs', 'union'), ('union', 'after'), ('after', 'leaving'), ('leaving', 'the'), ('the', 'EU'), ('EU', 'and'), ('and', 'promised'), ('promised', 'to'), ('to', 'repeal'), ('repeal', 'the'), ('the', 'European'), ('European', 'Communities'), ('Communities', 'Act'), ('Act', 'of'), ('of', '1972'), ('1972', 'and'), ('and', 'incorporate'), ('incorporate', 'existing'), ('existing', 'European'), ('European', 'Union'), ('Union', 'law'), ('law', 'into'), ('into', 'UK'), ('UK', 'domestic'), ('domestic', 'law'), ('law', '.'), ('.', 'A'), ('A', 'new'), ('new', 'government'), ('government', 'department'), ('department', ','), (',', 'the'), ('the', 'Department'), ('Department', 'for'), ('for', 'Exiting'), ('Exiting', 'the'), ('the', 'European'), ('European', 'Union'), ('Union', ','), (',', 'was'), ('was', 'created'), ('created', 'in'), ('in', 'July'), ('July', '2016'), ('2016', '.')]\n",
      "Ngrams Para 3\n",
      "[('Negotiations', 'with'), ('with', 'the'), ('the', 'EU'), ('EU', 'officially'), ('officially', 'started'), ('started', 'in'), ('in', 'June'), ('June', '2017'), ('2017', ','), (',', 'aiming'), ('aiming', 'to'), ('to', 'complete'), ('complete', 'the'), ('the', 'withdrawal'), ('withdrawal', 'agreement'), ('agreement', 'by'), ('by', 'October'), ('October', '2018'), ('2018', '.'), ('.', 'In'), ('In', 'June'), ('June', '2018'), ('2018', ','), (',', 'the'), ('the', 'UK'), ('UK', 'and'), ('and', 'the'), ('the', 'EU'), ('EU', 'published'), ('published', 'a'), ('a', 'joint'), ('joint', 'progress'), ('progress', 'report'), ('report', 'outlining'), ('outlining', 'agreement'), ('agreement', 'on'), ('on', 'issues'), ('issues', 'including'), ('including', 'customs'), ('customs', ','), (',', 'VAT'), ('VAT', 'and'), ('and', 'Euratom'), ('Euratom', '.')]\n",
      "Ngrams Para 4\n",
      "[('The', 'UK'), ('UK', 'joined'), ('joined', 'the'), ('the', 'European'), ('European', 'Communities'), ('Communities', '('), ('(', 'EC'), ('EC', ')'), (')', 'in'), ('in', '1973'), ('1973', ','), (',', 'with'), ('with', 'membership'), ('membership', 'confirmed'), ('confirmed', 'by'), ('by', 'a'), ('a', 'referendum'), ('referendum', 'in'), ('in', '1975'), ('1975', '.'), ('.', 'In'), ('In', 'the'), ('the', '1970s'), ('1970s', 'and'), ('and', '1980s'), ('1980s', ','), (',', 'withdrawal'), ('withdrawal', 'from'), ('from', 'the'), ('the', 'EC'), ('EC', 'was'), ('was', 'advocated'), ('advocated', 'mainly'), ('mainly', 'by'), ('by', 'Labour'), ('Labour', 'Party'), ('Party', 'members'), ('members', 'and'), ('and', 'trade'), ('trade', 'union'), ('union', 'figures'), ('figures', '.'), ('.', 'From'), ('From', 'the'), ('the', '1990s'), ('1990s', ','), (',', 'the'), ('the', 'main'), ('main', 'advocates'), ('advocates', 'of'), ('of', 'withdrawal'), ('withdrawal', 'were'), ('were', 'the'), ('the', 'newly'), ('newly', 'founded'), ('founded', 'UK'), ('UK', 'Independence'), ('Independence', 'Party'), ('Party', '('), ('(', 'UKIP'), ('UKIP', ')'), (')', 'and'), ('and', 'an'), ('an', 'increasing'), ('increasing', 'number'), ('number', 'of'), ('of', 'Eurosceptic'), ('Eurosceptic', 'Conservative'), ('Conservative', 'Party'), ('Party', 'members'), ('members', '.'), ('.', 'Prime'), ('Prime', 'Minister'), ('Minister', 'David'), ('David', 'Cameron'), ('Cameron', 'held'), ('held', 'the'), ('the', 'referendum'), ('referendum', 'in'), ('in', 'fulfilment'), ('fulfilment', 'of'), ('of', 'a'), ('a', '2015'), ('2015', 'manifesto'), ('manifesto', 'pledge'), ('pledge', '.'), ('.', 'Cameron'), ('Cameron', ','), (',', 'who'), ('who', 'had'), ('had', 'campaigned'), ('campaigned', 'for'), ('for', '``'), ('``', 'Remain'), ('Remain', \"''\"), (\"''\", ','), (',', 'resigned'), ('resigned', 'after'), ('after', 'the'), ('the', 'referendum'), ('referendum', 'result'), ('result', 'and'), ('and', 'was'), ('was', 'succeeded'), ('succeeded', 'by'), ('by', 'Theresa'), ('Theresa', 'May'), ('May', ','), (',', 'who'), ('who', 'called'), ('called', 'a'), ('a', 'snap'), ('snap', 'general'), ('general', 'election'), ('election', 'less'), ('less', 'than'), ('than', 'a'), ('a', 'year'), ('year', 'later'), ('later', ','), (',', 'in'), ('in', 'which'), ('which', 'she'), ('she', 'lost'), ('lost', 'her'), ('her', 'overall'), ('overall', 'majority'), ('majority', '.'), ('.', 'Her'), ('Her', 'minority'), ('minority', 'government'), ('government', 'is'), ('is', 'supported'), ('supported', 'in'), ('in', 'key'), ('key', 'votes'), ('votes', 'by'), ('by', 'the'), ('the', 'Democratic'), ('Democratic', 'Unionist'), ('Unionist', 'Party'), ('Party', '.')]\n",
      "Ngrams Para 5\n",
      "[('Six', 'weeks'), ('weeks', 'after'), ('after', 'the'), ('the', 'referendum'), ('referendum', ','), (',', 'the'), ('the', 'Bank'), ('Bank', 'of'), ('of', 'England'), ('England', 'introduced'), ('introduced', 'quantitative'), ('quantitative', 'easing'), ('easing', 'and'), ('and', 'lower'), ('lower', 'interest'), ('interest', 'rates'), ('rates', ','), (',', 'thus'), ('thus', 'allowing'), ('allowing', 'both'), ('both', 'depreciation'), ('depreciation', 'of'), ('of', 'sterling'), ('sterling', 'and'), ('and', 'a'), ('a', 'rise'), ('rise', 'in'), ('in', 'inflation'), ('inflation', 'that'), ('that', 'outpaced'), ('outpaced', 'wage'), ('wage', 'growth'), ('growth', 'for'), ('for', 'most'), ('most', 'of'), ('of', '2017'), ('2017', '.'), ('.', 'The'), ('The', 'drop'), ('drop', 'in'), ('in', 'the'), ('the', 'value'), ('value', 'of'), ('of', 'sterling'), ('sterling', 'has'), ('has', 'been'), ('been', 'claimed'), ('claimed', 'to'), ('to', 'have'), ('have', 'been'), ('been', 'caused'), ('caused', 'in'), ('in', 'part'), ('part', 'by'), ('by', 'hedge-fund'), ('hedge-fund', 'managers'), ('managers', 'betting'), ('betting', 'on'), ('on', 'Brexit'), ('Brexit', 'against'), ('against', 'polls'), ('polls', 'predicting'), ('predicting', 'a'), ('a', 'narrow'), ('narrow', 'victory'), ('victory', 'for'), ('for', 'the'), ('the', '``'), ('``', 'Remain'), ('Remain', \"''\"), (\"''\", 'camp'), ('camp', '.')]\n",
      "Ngrams Para 6\n",
      "[('There', 'is'), ('is', 'a'), ('a', 'broad'), ('broad', 'consensus'), ('consensus', 'in'), ('in', 'existing'), ('existing', 'economic'), ('economic', 'research'), ('research', 'that'), ('that', 'Brexit'), ('Brexit', 'is'), ('is', 'likely'), ('likely', 'to'), ('to', 'reduce'), ('reduce', 'the'), ('the', 'UK'), ('UK', \"'s\"), (\"'s\", 'real'), ('real', 'per'), ('per', 'capita'), ('capita', 'income'), ('income', 'in'), ('in', 'the'), ('the', 'medium'), ('medium', 'term'), ('term', 'and'), ('and', 'long'), ('long', 'term'), ('term', '.'), ('.', 'There'), ('There', 'is'), ('is', 'also'), ('also', 'agreement'), ('agreement', 'among'), ('among', 'economists'), ('economists', 'that'), ('that', 'the'), ('the', 'Brexit'), ('Brexit', 'referendum'), ('referendum', 'itself'), ('itself', 'damaged'), ('damaged', 'the'), ('the', 'economy'), ('economy', 'in'), ('in', 'the'), ('the', 'subsequent'), ('subsequent', 'two'), ('two', 'years'), ('years', '.'), ('.', 'Studies'), ('Studies', 'on'), ('on', 'effects'), ('effects', 'that'), ('that', 'have'), ('have', 'materialised'), ('materialised', 'since'), ('since', 'the'), ('the', 'referendum'), ('referendum', 'show'), ('show', 'annual'), ('annual', 'losses'), ('losses', 'of'), ('of', '£404'), ('£404', 'for'), ('for', 'the'), ('the', 'average'), ('average', 'UK'), ('UK', 'household'), ('household', ','), (',', 'and'), ('and', 'losses'), ('losses', 'between'), ('between', '1.3'), ('1.3', '%'), ('%', 'and'), ('and', '2.1'), ('2.1', '%'), ('%', 'of'), ('of', 'UK'), ('UK', 'GDP'), ('GDP', '.'), ('.', 'Brexit'), ('Brexit', 'is'), ('is', 'likely'), ('likely', 'to'), ('to', 'reduce'), ('reduce', 'immigration'), ('immigration', 'from'), ('from', 'European'), ('European', 'Economic'), ('Economic', 'Area'), ('Area', '('), ('(', 'EEA'), ('EEA', ')'), (')', 'countries'), ('countries', 'to'), ('to', 'the'), ('the', 'UK'), ('UK', ','), (',', 'and'), ('and', 'poses'), ('poses', 'challenges'), ('challenges', 'for'), ('for', 'UK'), ('UK', 'higher'), ('higher', 'education'), ('education', 'and'), ('and', 'academic'), ('academic', 'research'), ('research', '.'), ('.', 'As'), ('As', 'of'), ('of', 'June'), ('June', '2018'), ('2018', ','), (',', 'the'), ('the', 'size'), ('size', 'of'), ('of', 'the'), ('the', '``'), ('``', 'divorce'), ('divorce', 'bill'), ('bill', \"''\"), (\"''\", ','), (',', 'the'), ('the', 'UK'), ('UK', \"'s\"), (\"'s\", 'inheritance'), ('inheritance', 'of'), ('of', 'existing'), ('existing', 'EU'), ('EU', 'trade'), ('trade', 'agreements'), ('agreements', ','), (',', 'and'), ('and', 'relations'), ('relations', 'with'), ('with', 'Ireland'), ('Ireland', 'and'), ('and', 'other'), ('other', 'EU'), ('EU', 'member'), ('member', 'states'), ('states', 'remain'), ('remain', 'uncertain'), ('uncertain', '.'), ('.', 'The'), ('The', 'precise'), ('precise', 'impact'), ('impact', 'on'), ('on', 'the'), ('the', 'UK'), ('UK', 'depends'), ('depends', 'on'), ('on', 'whether'), ('whether', 'the'), ('the', 'process'), ('process', 'will'), ('will', 'be'), ('be', 'a'), ('a', \"''\"), (\"''\", 'hard'), ('hard', \"''\"), (\"''\", 'or'), ('or', 'a'), ('a', '``'), ('``', 'soft'), ('soft', \"''\"), (\"''\", 'Brexit'), ('Brexit', '.')]\n",
      "Ngrams Para 7\n",
      "[]\n"
     ]
    }
   ],
   "source": [
    "#1 GetNGrams\n",
    "from nltk.util import ngrams as ng\n",
    "from nltk import FreqDist as fd\n",
    "from nltk.tokenize import word_tokenize as wt\n",
    "\n",
    "def GetNGrams(string,n):\n",
    "    no_of_tokens = wt(string)\n",
    "    #print(no_of_tokens)\n",
    "    string_ngrams = list(ng(no_of_tokens,n))\n",
    "    print(string_ngrams)\n",
    "\n",
    "no_of_para = len(doc.paragraphs)\n",
    "val = input(\"Enter No. for Ngrams: \")  \n",
    "count_ngrams = int(val)\n",
    "for x in range(no_of_para):\n",
    "    #print (\"No. of Words in Paragraph \" + str(x+1) + \" -\", end = \" \")\n",
    "    #no_of_words_in_para = len(doc.paragraphs[x].text)\n",
    "    #print(no_of_words_in_para)\n",
    "    print(\"Ngrams Para\", x+1)\n",
    "    GetNGrams(doc.paragraphs[x].text,count_ngrams)\n"
   ]
  },
  {
   "cell_type": "code",
   "execution_count": 172,
   "id": "461dd0b1-c751-461e-88e9-dd7c7c878db4",
   "metadata": {},
   "outputs": [
    {
     "data": {
      "text/plain": [
       "195"
      ]
     },
     "execution_count": 172,
     "metadata": {},
     "output_type": "execute_result"
    }
   ],
   "source": [
    "import nltk\n",
    "from collections import Counter\n",
    "import docx\n",
    "from nltk.tokenize import word_tokenize as wt\n",
    "doc = docx.Document(\"Brexit.docx\")\n",
    "from collections import Counter\n",
    "\n",
    "def NounsCount(string):\n",
    "    no_of_tokens = wt(string)\n",
    "    pos = nltk.pos_tag(no_of_tokens)\n",
    "    count_noun = 0\n",
    "    for p in pos:\n",
    "        if(p[1]=='NN' or p[1]=='NNP' or p[1]=='NNS' or p[1]=='NNPS'):\n",
    "            count_noun = count_noun + 1\n",
    "    return(count_noun)\n",
    "\n",
    "def total_nouns(doc):\n",
    "    no_of_para = len(doc.paragraphs)\n",
    "    tot = 0\n",
    "    for x in range(no_of_para):\n",
    "        para_text = str(doc.paragraphs[x].text)\n",
    "        n = int(NounsCount(para_text))\n",
    "        tot = tot + int(n)\n",
    "    return(tot)\n",
    "\n",
    "total_nouns(doc)"
   ]
  },
  {
   "cell_type": "code",
   "execution_count": 4,
   "id": "bcf7e5ce-ae8c-4984-b2bd-c36140973fd1",
   "metadata": {},
   "outputs": [
    {
     "name": "stdout",
     "output_type": "stream",
     "text": [
      "Count of Pronouns in Para 1 = 0\n",
      "Count of Pronouns in Para 2 = 0\n",
      "Count of Pronouns in Para 3 = 0\n",
      "Count of Pronouns in Para 4 = 5\n",
      "Count of Pronouns in Para 5 = 0\n",
      "Count of Pronouns in Para 6 = 1\n",
      "Count of Pronouns in Para 7 = 0\n"
     ]
    }
   ],
   "source": [
    "# Don't delete - Here we can count pronouns for each paragrapgh one by one - save this code\n",
    "\n",
    "import nltk\n",
    "import docx\n",
    "from nltk.tokenize import word_tokenize as wt\n",
    "doc = docx.Document(\"Brexit.docx\")\n",
    "from collections import Counter\n",
    "def PronounsCount(string):\n",
    "    no_of_tokens = wt(string)\n",
    "    pos = nltk.pos_tag(no_of_tokens)\n",
    "    #print(pos)\n",
    "    count_pnoun = 0\n",
    "    for p in pos:\n",
    "        if(p[1]=='PRP' or p[1]=='PRP$' or p[1]=='WP' or p[1]=='WP$'):\n",
    "            count_pnoun = count_pnoun + 1\n",
    "    print(count_pnoun)\n",
    "\n",
    "no_of_para = len(doc.paragraphs)\n",
    "for x in range(no_of_para):\n",
    "    para_text = doc.paragraphs[x].text\n",
    "    print(\"Count of Pronouns in Para\", x+1, end = \" = \")\n",
    "    PronounsCount(para_text)"
   ]
  },
  {
   "cell_type": "code",
   "execution_count": 11,
   "id": "13af00dc-cae8-43eb-a141-731a216b2c46",
   "metadata": {},
   "outputs": [],
   "source": [
    "import nltk\n",
    "import docx\n",
    "from nltk.tokenize import word_tokenize as wt\n",
    "doc = docx.Document(\"Brexit.docx\")\n",
    "from collections import Counter\n",
    "def PronounsCount(string):\n",
    "    no_of_tokens = wt(string)\n",
    "    pos = nltk.pos_tag(no_of_tokens)\n",
    "    #print(pos)\n",
    "    count_pnoun = 0\n",
    "    for p in pos:\n",
    "        if(p[1]=='PRP' or p[1]=='PRP$' or p[1]=='WP' or p[1]=='WP$'):\n",
    "            count_pnoun = count_pnoun + 1\n",
    "    return(count_pnoun)\n",
    "\n",
    "def total_pnouns(doc):\n",
    "    no_of_para = len(doc.paragraphs)\n",
    "    tot = 0\n",
    "    for x in range(no_of_para):\n",
    "        para_text = doc.paragraphs[x].text\n",
    "        n = int(PronounsCount(para_text))\n",
    "        tot = tot + int(n)\n",
    "    return(tot)"
   ]
  },
  {
   "cell_type": "code",
   "execution_count": 16,
   "id": "51ec37c1-2cc3-472c-8e9b-a91b4ee346b5",
   "metadata": {},
   "outputs": [],
   "source": [
    "import nltk\n",
    "import docx\n",
    "from nltk.tokenize import word_tokenize as wt\n",
    "doc = docx.Document(\"Brexit.docx\")\n",
    "from collections import Counter\n",
    "def AdjCount(string):\n",
    "    no_of_tokens = wt(string)\n",
    "    pos = nltk.pos_tag(no_of_tokens)\n",
    "    #print(pos)\n",
    "    count_adj = 0\n",
    "    for p in pos:\n",
    "        if(p[1]=='JJ' or p[1]=='JJR' or p[1]=='JJS' or p[1]=='WP$'):\n",
    "            count_adj = count_adj + 1\n",
    "    return(count_adj)\n",
    "\n",
    "def total_adj(doc):\n",
    "    no_of_para = len(doc.paragraphs)\n",
    "    tot = 0\n",
    "    for x in range(no_of_para):\n",
    "        para_text = doc.paragraphs[x].text\n",
    "        n = int(AdjCount(para_text))\n",
    "        tot = tot + int(n)\n",
    "    return(tot)"
   ]
  },
  {
   "cell_type": "code",
   "execution_count": 20,
   "id": "842c3692-ae0f-4622-a35c-e3da62136fac",
   "metadata": {},
   "outputs": [],
   "source": [
    "import nltk\n",
    "import docx\n",
    "from nltk.tokenize import word_tokenize as wt\n",
    "doc = docx.Document(\"Brexit.docx\")\n",
    "from collections import Counter\n",
    "def VerbCount(string):\n",
    "    no_of_tokens = wt(string)\n",
    "    pos = nltk.pos_tag(no_of_tokens)\n",
    "    #print(pos)\n",
    "    count_v = 0\n",
    "    for p in pos:\n",
    "        if(p[1]=='VB' or p[1]=='VBD' or p[1]=='VBG' or p[1]=='VBN'or p[1]=='VBP'or p[1]=='VBZ'):\n",
    "            count_v = count_v + 1\n",
    "    return(count_v)\n",
    "def total_verb(doc):\n",
    "    no_of_para = len(doc.paragraphs)\n",
    "    tot = 0\n",
    "    for x in range(no_of_para):\n",
    "        para_text = doc.paragraphs[x].text\n",
    "        n = int(VerbCount(para_text))\n",
    "        tot = tot + int(n)\n",
    "    return(tot)"
   ]
  },
  {
   "cell_type": "code",
   "execution_count": 1,
   "id": "22db75ca-97f8-41ee-9af3-f496053d1f92",
   "metadata": {},
   "outputs": [],
   "source": [
    "import nltk\n",
    "import docx\n",
    "from nltk.tokenize import word_tokenize as wt\n",
    "doc = docx.Document(\"Brexit.docx\")\n",
    "from collections import Counter\n",
    "def AdverbCount(string):\n",
    "    no_of_tokens = wt(string)\n",
    "    pos = nltk.pos_tag(no_of_tokens)\n",
    "    print(pos)\n",
    "    count_av = 0\n",
    "    for p in pos:\n",
    "        if(p[1]=='RB' or p[1]=='RBR' or p[1]=='WRB'):\n",
    "            count_av = count_av + 1\n",
    "    return(count_av)\n",
    "\n",
    "def total_av(doc):\n",
    "    no_of_para = len(doc.paragraphs)\n",
    "    tot = 0\n",
    "    for x in range(no_of_para):\n",
    "        para_text = doc.paragraphs[x].text\n",
    "        n = int(AdverbCount(para_text))\n",
    "        tot = tot + int(n)\n",
    "    return(tot)"
   ]
  },
  {
   "cell_type": "code",
   "execution_count": 30,
   "id": "c5abc15f-b04c-4f6b-b517-140176c15295",
   "metadata": {},
   "outputs": [
    {
     "name": "stdout",
     "output_type": "stream",
     "text": [
      "No. of Nouns = 195\n",
      "No. of Pronouns = 6\n",
      "No. of Adjectives = 41\n",
      "No. of Verbs = 67\n",
      "No. of Adverbs = 7\n"
     ]
    },
    {
     "data": {
      "image/png": "[encoded data removed]",
      "text/plain": [
       "<Figure size 640x480 with 1 Axes>"
      ]
     },
     "metadata": {},
     "output_type": "display_data"
    }
   ],
   "source": [
    "#2\n",
    "import nltk\n",
    "import docx\n",
    "from nltk.tokenize import word_tokenize as wt\n",
    "import matplotlib.pyplot as plt\n",
    "import numpy as np\n",
    "doc = docx.Document(\"Brexit.docx\")\n",
    "n_n = total_nouns(doc)\n",
    "n_p = total_pnouns(doc)\n",
    "n_a = total_adj(doc)\n",
    "n_v = total_verb(doc)\n",
    "n_av = total_av(doc)\n",
    "print(\"No. of Nouns = \"+ str(n_n))\n",
    "print(\"No. of Pronouns = \"+ str(n_p))\n",
    "print(\"No. of Adjectives = \"+ str(n_a))\n",
    "print(\"No. of Verbs = \"+ str(n_v))\n",
    "print(\"No. of Adverbs = \"+ str(n_av))\n",
    "\n",
    "y = np.array([n_n,n_p, n_a, n_v, n_av])\n",
    "my = [\"Nouns\", \"Pronouns\", \"Adjectives\", \"Verbs\", \"Adverbs\"]\n",
    "plt.pie(y, labels = my)\n",
    "plt.show()"
   ]
  },
  {
   "cell_type": "code",
   "execution_count": 6,
   "id": "02fb66d5-df2e-434b-9b2c-88083a86189d",
   "metadata": {},
   "outputs": [],
   "source": [
    "#3\n",
    "import nltk\n",
    "import docx\n",
    "from nltk.tokenize import word_tokenize as wt\n",
    "from nltk import ne_chunk\n",
    "doc = docx.Document(\"Brexit.docx\")\n",
    "from collections import Counter\n",
    "def GeoCount(string):\n",
    "    no_of_tokens = wt(string)\n",
    "    tag = nltk.pos_tag(no_of_tokens)\n",
    "    print(tag)\n",
    "    named_entities = nltk.ne_chunk(tag)\n",
    "    print(named_entities)\n",
    "    count_geo = 0\n",
    "    for entity in named_entities:\n",
    "        if hasattr(entity, \"label\"):\n",
    "            if(entity.label() == 'GPE'):\n",
    "                count_geo = count_geo + 1 \n",
    "    return(count_geo)\n",
    "\n",
    "def GeoPoliticalCount(doc):\n",
    "    no_of_para = len(doc.paragraphs)\n",
    "    tot = 0\n",
    "    for x in range(no_of_para):\n",
    "        para_text = doc.paragraphs[x].text\n",
    "        n = int(GeoCount(para_text))\n",
    "        tot = tot + int(n)\n",
    "    return(tot)"
   ]
  },
  {
   "cell_type": "code",
   "execution_count": 54,
   "id": "f7687acd-b75c-4a1c-84f9-9088c4fbfaf0",
   "metadata": {},
   "outputs": [
    {
     "name": "stderr",
     "output_type": "stream",
     "text": [
      "[nltk_data] Downloading package maxent_ne_chunker to\n",
      "[nltk_data]     C:\\Users\\SiyaPransh/nltk_data...\n",
      "[nltk_data]   Unzipping chunkers\\maxent_ne_chunker.zip.\n"
     ]
    },
    {
     "data": {
      "text/plain": [
       "True"
      ]
     },
     "execution_count": 54,
     "metadata": {},
     "output_type": "execute_result"
    }
   ],
   "source": [
    "nltk.download('maxent_ne_chunker')"
   ]
  },
  {
   "cell_type": "code",
   "execution_count": 34,
   "id": "8924838d-779e-4d55-aad5-ab4247378598",
   "metadata": {},
   "outputs": [
    {
     "name": "stderr",
     "output_type": "stream",
     "text": [
      "[nltk_data] Downloading package words to\n",
      "[nltk_data]     C:\\Users\\SiyaPransh/nltk_data...\n",
      "[nltk_data]   Unzipping corpora\\words.zip.\n"
     ]
    },
    {
     "data": {
      "text/plain": [
       "True"
      ]
     },
     "execution_count": 34,
     "metadata": {},
     "output_type": "execute_result"
    }
   ],
   "source": [
    "nltk.download('words')"
   ]
  },
  {
   "cell_type": "code",
   "execution_count": 62,
   "id": "129cd90c-cbc8-431b-82d5-56c5aa4f24d3",
   "metadata": {},
   "outputs": [],
   "source": [
    "#3\n",
    "import docx\n",
    "from nltk.tokenize import word_tokenize as wt\n",
    "from nltk import ne_chunk\n",
    "doc = docx.Document(\"Brexit.docx\")\n",
    "from collections import Counter\n",
    "def PersonCount(string):\n",
    "    no_of_tokens = wt(string)\n",
    "    tag = nltk.pos_tag(no_of_tokens)\n",
    "    #print(tag)\n",
    "    named_entities = nltk.ne_chunk(tag)\n",
    "    #print(named_entities)\n",
    "    count_p = 0\n",
    "    for entity in named_entities:\n",
    "        if hasattr(entity, \"label\"):\n",
    "            if(entity.label() == 'PERSON'):\n",
    "                count_p = count_p + 1 \n",
    "    return(count_p)\n",
    "\n",
    "def PCount(doc):\n",
    "    no_of_para = len(doc.paragraphs)\n",
    "    tot = 0\n",
    "    for x in range(no_of_para):\n",
    "        para_text = doc.paragraphs[x].text\n",
    "        n = int(PersonCount(para_text))\n",
    "        tot = tot + int(n)\n",
    "    return(tot)"
   ]
  },
  {
   "cell_type": "code",
   "execution_count": 63,
   "id": "96c589fe-abcb-4d7a-959b-bf8041eedbc6",
   "metadata": {},
   "outputs": [],
   "source": [
    "#3\n",
    "import docx\n",
    "from nltk.tokenize import word_tokenize as wt\n",
    "from nltk import ne_chunk\n",
    "doc = docx.Document(\"Brexit.docx\")\n",
    "from collections import Counter\n",
    "def OrganizationCount(string):\n",
    "    no_of_tokens = wt(string)\n",
    "    tag = nltk.pos_tag(no_of_tokens)\n",
    "    #print(tag)\n",
    "    named_entities = nltk.ne_chunk(tag)\n",
    "    #print(named_entities)\n",
    "    count_o = 0\n",
    "    for entity in named_entities:\n",
    "        if hasattr(entity, \"label\"):\n",
    "            if(entity.label() == 'ORGANIZATION'):\n",
    "                count_o = count_o + 1 \n",
    "    return(count_o)\n",
    "\n",
    "def OCount(doc):\n",
    "    no_of_para = len(doc.paragraphs)\n",
    "    tot = 0\n",
    "    for x in range(no_of_para):\n",
    "        para_text = doc.paragraphs[x].text\n",
    "        n = int(OrganizationCount(para_text))\n",
    "        tot = tot + int(n)\n",
    "    return(tot)"
   ]
  },
  {
   "cell_type": "code",
   "execution_count": 65,
   "id": "903b962b-e870-4c15-bf78-20d5e02aeb04",
   "metadata": {},
   "outputs": [
    {
     "name": "stdout",
     "output_type": "stream",
     "text": [
      "No. of Geopoilitical Entities = 19\n",
      "No. of Persons = 6\n",
      "No. of Organizations = 29\n"
     ]
    },
    {
     "data": {
      "image/png": "[encoded data removed]",
      "text/plain": [
       "<Figure size 640x480 with 1 Axes>"
      ]
     },
     "metadata": {},
     "output_type": "display_data"
    }
   ],
   "source": [
    "#3\n",
    "import nltk\n",
    "import docx\n",
    "from nltk.tokenize import word_tokenize as wt\n",
    "import matplotlib.pyplot as plt\n",
    "import numpy as np\n",
    "doc = docx.Document(\"Brexit.docx\")\n",
    "n_g = GeoPoliticalCount(doc)\n",
    "n_p = PCount(doc)\n",
    "n_o = OCount(doc)\n",
    "\n",
    "print(\"No. of Geopoilitical Entities = \"+ str(n_g))\n",
    "print(\"No. of Persons = \"+ str(n_p))\n",
    "print(\"No. of Organizations = \"+ str(n_o))\n",
    "\n",
    "y = np.array([n_g,n_p, n_o])\n",
    "my = [\"Geopoilitical Entities\", \"Persons\", \"Organizations\"]\n",
    "plt.pie(y, labels = my)\n",
    "plt.show()"
   ]
  },
  {
   "cell_type": "code",
   "execution_count": 175,
   "id": "4fe4cae9-c105-4473-b72f-c05e9820573d",
   "metadata": {},
   "outputs": [
    {
     "name": "stdout",
     "output_type": "stream",
     "text": [
      "{'Brexit': 2, 'EU': 8, 'British': 1, 'European': 4, 'Euratom': 1, 'Eurosceptic': 1, 'England': 1, 'Ireland': 1}\n",
      "EU\n"
     ]
    },
    {
     "data": {
      "text/plain": [
       "19"
      ]
     },
     "execution_count": 175,
     "metadata": {},
     "output_type": "execute_result"
    }
   ],
   "source": [
    "#4 - this code is taken from above (count of GPE) and modified so that individual count of GPEs & Persons can be found out\n",
    "# #4 GeoPoliticalCountMostFrequent - Most frequent GeoPolitical Entity - EU\n",
    "import nltk\n",
    "from collections import Counter\n",
    "import docx\n",
    "from nltk.tokenize import word_tokenize as wt\n",
    "from nltk.tree import Tree\n",
    "from nltk import ne_chunk\n",
    "doc = docx.Document(\"Brexit.docx\")\n",
    "from collections import Counter\n",
    "def GeoCount(string):\n",
    "    no_of_tokens = wt(string)     \n",
    "    tag = nltk.pos_tag(no_of_tokens)\n",
    "    #print(tag)\n",
    "    named_entities = nltk.ne_chunk(tag)\n",
    "    #print(named_entities)\n",
    "    count_geo = 0\n",
    "    list_gpe = []\n",
    "    for entity in named_entities:\n",
    "        if hasattr(entity, \"label\"):\n",
    "            if(entity.label() == 'GPE'):\n",
    "                count_geo = count_geo + 1 \n",
    "                #print(entity.label(), end = \" \")\n",
    "                #print(entity)\n",
    "                #print(entity[0])\n",
    "                list_gpe.append(entity[0])\n",
    "                #print(l(1))\n",
    "    #print(list_gpe)  \n",
    "    return(count_geo, list_gpe)\n",
    "\n",
    "def GeoPoliticalCountMostFrequent(doc):\n",
    "    no_of_para = len(doc.paragraphs)\n",
    "    tot = 0\n",
    "    gpe_li =[]\n",
    "    gpe_l =[]\n",
    "    final_l = []\n",
    "    \n",
    "    for x in range(no_of_para):\n",
    "        para_text = doc.paragraphs[x].text\n",
    "        n, gpe_l = (GeoCount(para_text))\n",
    "        gpe_li.append(gpe_l)\n",
    "        tot = tot + int(n) \n",
    "    #print((gpe_li))\n",
    "    #b =  len([l for l in gpe_li if l == 'Brexit'])\n",
    "    #print (b)\n",
    "    for l in gpe_li:\n",
    "        for le in l:\n",
    "            # print(le[0])\n",
    "            final_l.append(le[0])\n",
    "    #print (final_l)\n",
    "    d = dict.fromkeys(final_l, 0)\n",
    "    for val in final_l:\n",
    "        d[val] += 1\n",
    "    print(d)\n",
    "    element_counts = Counter(final_l)\n",
    "    most_frequent_element = max(element_counts, key=element_counts.get)\n",
    "    print(most_frequent_element)\n",
    "    return(tot)\n",
    "\n",
    "GeoPoliticalCountMostFrequent(doc)"
   ]
  },
  {
   "cell_type": "code",
   "execution_count": 193,
   "id": "67c39612-8e37-40bf-8ce3-8eaa8ff60e2d",
   "metadata": {},
   "outputs": [
    {
     "name": "stdout",
     "output_type": "stream",
     "text": [
      "{'Theresa': 2, 'David': 1, 'Cameron': 1, 'Brexit': 2}\n",
      "Theresa\n"
     ]
    },
    {
     "data": {
      "text/plain": [
       "6"
      ]
     },
     "execution_count": 193,
     "metadata": {},
     "output_type": "execute_result"
    }
   ],
   "source": [
    "#4 - this code is taken from above (count of GPE) and modified so that individual count of GPEs & Persons can be found out\n",
    "# #4 PersonCountMostFrequent - Most frequent person - Theresa\n",
    "import nltk\n",
    "from collections import Counter\n",
    "import docx\n",
    "from nltk.tokenize import word_tokenize as wt\n",
    "from nltk.tree import Tree\n",
    "from nltk import ne_chunk\n",
    "doc = docx.Document(\"Brexit.docx\")\n",
    "from collections import Counter\n",
    "def PersonCount(string):\n",
    "    no_of_tokens = wt(string)     \n",
    "    tag = nltk.pos_tag(no_of_tokens)\n",
    "    #print(tag)\n",
    "    named_entities = nltk.ne_chunk(tag)\n",
    "    #print(named_entities)\n",
    "    count_geo = 0\n",
    "    list_gpe = []\n",
    "    for entity in named_entities:\n",
    "        if hasattr(entity, \"label\"):\n",
    "            if(entity.label() == 'PERSON'):\n",
    "                count_geo = count_geo + 1 \n",
    "                #print(entity.label(), end = \" \")\n",
    "                #print(entity)\n",
    "                #print(entity[0])\n",
    "                list_gpe.append(entity[0])\n",
    "                #print(l(1))\n",
    "    #print(list_gpe)  \n",
    "    return(count_geo, list_gpe)\n",
    "\n",
    "def PersonCountMostFrequent(doc):\n",
    "    no_of_para = len(doc.paragraphs)\n",
    "    tot = 0\n",
    "    gpe_li =[]\n",
    "    gpe_l =[]\n",
    "    final_l = []\n",
    "    \n",
    "    for x in range(no_of_para):\n",
    "        para_text = doc.paragraphs[x].text\n",
    "        n, gpe_l = (PersonCount(para_text))\n",
    "        gpe_li.append(gpe_l)\n",
    "        tot = tot + int(n) \n",
    "    #print((gpe_li))\n",
    "    #b =  len([l for l in gpe_li if l == 'Brexit'])\n",
    "    #print (b)\n",
    "    for l in gpe_li:\n",
    "        for le in l:\n",
    "            # print(le[0])\n",
    "            final_l.append(le[0])\n",
    "    #print (final_l)\n",
    "    d = dict.fromkeys(final_l, 0)\n",
    "    for val in final_l:\n",
    "        d[val] += 1\n",
    "    print(d)\n",
    "    element_counts = Counter(final_l)\n",
    "    most_frequent_element = max(element_counts, key=element_counts.get)\n",
    "    print(most_frequent_element)\n",
    "    return(tot)\n",
    "\n",
    "PersonCountMostFrequent(doc)"
   ]
  },
  {
   "cell_type": "code",
   "execution_count": 226,
   "id": "a9326a21-775b-4cd1-a9a0-fdfd9b29cf6a",
   "metadata": {},
   "outputs": [
    {
     "name": "stdout",
     "output_type": "stream",
     "text": [
      "{'Brexit': 6, 'withdrawal': 4, 'United': 1, 'Kingdom': 1, 'UK': 13, 'European': 6, 'Union': 5, 'EU': 8, 'referendum': 6, 'June': 4, 'majority': 2, 'voters': 1, 'March': 2, 'government': 4, 'Article': 1, 'Treaty': 1, 'Withdrawal': 1, 'Act': 2, 'day': 1, 'p.m.': 1, 'Time': 1, 'Prime': 2, 'Minister': 2, 'Theresa': 2, 'May': 2, 'intention': 1, 'membership': 2, 'market': 1, 'customs': 2, 'union': 2, 'Communities': 2, 'law': 2, 'department': 1, 'Department': 1, 'July': 1, 'Negotiations': 1, 'agreement': 3, 'October': 1, 'progress': 1, 'report': 1, 'issues': 1, 'VAT': 1, 'Euratom': 1, 'EC': 2, 'Labour': 1, 'Party': 4, 'members': 2, 'trade': 2, 'figures': 1, 'advocates': 1, 'Independence': 1, 'UKIP': 1, 'number': 1, 'Eurosceptic': 1, 'Conservative': 1, 'David': 1, 'Cameron': 2, 'fulfilment': 1, 'manifesto': 1, 'pledge': 1, 'Remain': 2, 'result': 1, 'election': 1, 'year': 1, 'minority': 1, 'votes': 1, 'Unionist': 1, 'Six': 1, 'weeks': 1, 'Bank': 1, 'England': 1, 'easing': 1, 'interest': 1, 'rates': 1, 'depreciation': 1, 'sterling': 2, 'rise': 1, 'inflation': 1, 'wage': 1, 'growth': 1, 'drop': 1, 'value': 1, 'part': 1, 'hedge-fund': 1, 'managers': 1, 'polls': 1, 'victory': 1, 'camp': 1, 'consensus': 1, 'research': 2, 'income': 1, 'term': 2, 'economists': 1, 'economy': 1, 'years': 1, 'Studies': 1, 'effects': 1, 'losses': 2, '£404': 1, 'household': 1, '%': 2, 'GDP': 1, 'immigration': 1, 'Economic': 1, 'Area': 1, 'EEA': 1, 'countries': 1, 'poses': 1, 'challenges': 1, 'education': 1, 'size': 1, 'divorce': 1, 'bill': 1, 'inheritance': 1, 'agreements': 1, 'relations': 1, 'Ireland': 1, 'member': 1, 'states': 1, 'impact': 1, 'process': 1}\n",
      "UK\n"
     ]
    },
    {
     "data": {
      "text/plain": [
       "195"
      ]
     },
     "execution_count": 226,
     "metadata": {},
     "output_type": "execute_result"
    }
   ],
   "source": [
    "#4 This code is taken from above (Nouns). For getting Noun occuring most\n",
    "#4 Completed - Brexit\n",
    "\n",
    "import nltk\n",
    "from collections import Counter\n",
    "import docx\n",
    "from nltk.tokenize import word_tokenize as wt\n",
    "from nltk.tree import Tree\n",
    "from nltk import ne_chunk\n",
    "doc = docx.Document(\"Brexit.docx\")\n",
    "from collections import Counter\n",
    "\n",
    "def NounsCount(string):\n",
    "    no_of_tokens = wt(string)\n",
    "    pos = nltk.pos_tag(no_of_tokens)\n",
    "    count_noun = 0\n",
    "    p_list = []\n",
    "    for p in pos:\n",
    "        if(p[1]=='NN' or p[1]=='NNP' or p[1]=='NNS' or p[1]=='NNPS'):\n",
    "            count_noun = count_noun + 1\n",
    "            p_list.append(p[0])\n",
    "    #print(p_list)\n",
    "    return(count_noun, p_list)\n",
    "\n",
    "def total_nouns(doc):\n",
    "    no_of_para = len(doc.paragraphs)\n",
    "    tot = 0\n",
    "    n_l = []\n",
    "    n_lc = []\n",
    "    final_l = []\n",
    "    for x in range(no_of_para):\n",
    "        para_text = str(doc.paragraphs[x].text)\n",
    "        n, n_l = NounsCount(para_text)\n",
    "        n_lc.append(n_l)\n",
    "        tot = tot + int(n)\n",
    "    gpe_li = n_lc\n",
    "    for l in gpe_li:\n",
    "            #print(l)\n",
    "        for le in l:\n",
    "            final_l.append(le)\n",
    "    #print (final_l)\n",
    "    d = dict.fromkeys(final_l,0)\n",
    "    for val in final_l:\n",
    "        d[val] += 1\n",
    "    print(d)\n",
    "    element_counts = Counter(final_l)\n",
    "    most_frequent_element = max(final_l, key=element_counts.get)\n",
    "    print(most_frequent_element)\n",
    "    return(tot)\n",
    "\n",
    "total_nouns(doc)"
   ]
  },
  {
   "cell_type": "code",
   "execution_count": 233,
   "id": "926a8377-3b96-44ef-967c-e030526ee570",
   "metadata": {},
   "outputs": [
    {
     "name": "stdout",
     "output_type": "stream",
     "text": [
      "[((',', 'the'), 7), (('the', 'UK'), 6), (('the', 'European'), 5), (('European', 'Union'), 5), (('the', 'EU'), 5), (('of', 'the'), 4), (('the', 'referendum'), 4), (('Brexit', 'is'), 3), (('.', 'In'), 3), (('.', 'The'), 3), (('in', 'the'), 3), ((',', 'and'), 3), (('from', 'the'), 2), (('Union', '('), 2), ((')', '.'), 2), (('a', 'referendum'), 2), (('leaving', 'the'), 2), (('29', 'March'), 2), (('2017', ','), 2), (('Prime', 'Minister'), 2), (('Theresa', 'May'), 2), (('European', 'Communities'), 2), (('June', '2018'), 2), (('2018', ','), 2), (('referendum', 'in'), 2), (('Party', 'members'), 2), ((',', 'who'), 2), (('``', 'Remain'), 2), (('Remain', \"''\"), 2), ((\"''\", ','), 2), (('after', 'the'), 2), (('of', 'sterling'), 2), (('for', 'the'), 2), (('the', '``'), 2), (('There', 'is'), 2), (('is', 'likely'), 2), (('likely', 'to'), 2), (('to', 'reduce'), 2), (('UK', \"'s\"), 2), (('is', 'the'), 1), (('the', 'impending'), 1), (('impending', 'withdrawal'), 1), (('withdrawal', 'of'), 1), (('the', 'United'), 1), (('United', 'Kingdom'), 1), (('Kingdom', '('), 1), (('(', 'UK'), 1), (('UK', ')'), 1), ((')', 'from'), 1), (('(', 'EU'), 1), (('EU', ')'), 1), (('In', 'a'), 1), (('referendum', 'on'), 1), (('on', '23'), 1), (('23', 'June'), 1), (('June', '2016'), 1), (('2016', ','), 1), ((',', 'a'), 1), (('a', 'majority'), 1), (('majority', 'of'), 1), (('of', 'British'), 1), (('British', 'voters'), 1), (('voters', 'supported'), 1), (('supported', 'leaving'), 1), (('EU', '.'), 1), (('.', 'On'), 1), (('On', '29'), 1), (('March', '2017'), 1), (('UK', 'government'), 1), (('government', 'invoked'), 1), (('invoked', 'Article'), 1), (('Article', '50'), 1), (('50', 'of'), 1), (('the', 'Treaty'), 1), (('Treaty', 'on'), 1), (('on', 'European'), 1), (('Union', '.'), 1), (('The', 'European'), 1), (('(', 'Withdrawal'), 1), (('Withdrawal', ')'), 1), ((')', 'Act'), 1), (('Act', '2018'), 1), (('2018', 'declares'), 1), (('declares', '``'), 1), (('``', 'exit'), 1), (('exit', 'day'), 1), (('day', \"''\"), 1), ((\"''\", 'to'), 1), (('to', 'be'), 1), (('be', '29'), 1), (('March', '2019'), 1), (('2019', 'at'), 1), (('at', '11'), 1), (('11', 'p.m.'), 1), (('p.m.', '('), 1), (('(', 'Central'), 1), (('Central', 'European'), 1), (('European', 'Time'), 1), (('Time', ')'), 1), (('Minister', 'Theresa'), 1), (('May', 'announced'), 1), (('announced', 'the'), 1), (('the', 'government'), 1), (('government', \"'s\"), 1), ((\"'s\", 'intention'), 1), (('intention', 'not'), 1), (('not', 'to'), 1), (('to', 'seek'), 1), (('seek', 'permanent'), 1), (('permanent', 'membership'), 1), (('membership', 'of'), 1), (('European', 'single'), 1), (('single', 'market'), 1), (('market', 'or'), 1), (('or', 'the'), 1), (('EU', 'customs'), 1), (('customs', 'union'), 1), (('union', 'after'), 1), (('after', 'leaving'), 1), (('EU', 'and'), 1), (('and', 'promised'), 1), (('promised', 'to'), 1), (('to', 'repeal'), 1), (('repeal', 'the'), 1), (('Communities', 'Act'), 1), (('Act', 'of'), 1), (('of', '1972'), 1), (('1972', 'and'), 1), (('and', 'incorporate'), 1), (('incorporate', 'existing'), 1), (('existing', 'European'), 1), (('Union', 'law'), 1), (('law', 'into'), 1), (('into', 'UK'), 1), (('UK', 'domestic'), 1), (('domestic', 'law'), 1), (('law', '.'), 1), (('.', 'A'), 1), (('A', 'new'), 1), (('new', 'government'), 1), (('government', 'department'), 1), (('department', ','), 1), (('the', 'Department'), 1), (('Department', 'for'), 1), (('for', 'Exiting'), 1), (('Exiting', 'the'), 1), (('Union', ','), 1), ((',', 'was'), 1), (('was', 'created'), 1), (('created', 'in'), 1), (('in', 'July'), 1), (('July', '2016'), 1), (('2016', '.'), 1), (('Negotiations', 'with'), 1), (('with', 'the'), 1), (('EU', 'officially'), 1), (('officially', 'started'), 1), (('started', 'in'), 1), (('in', 'June'), 1), (('June', '2017'), 1), ((',', 'aiming'), 1), (('aiming', 'to'), 1), (('to', 'complete'), 1), (('complete', 'the'), 1), (('the', 'withdrawal'), 1), (('withdrawal', 'agreement'), 1), (('agreement', 'by'), 1), (('by', 'October'), 1), (('October', '2018'), 1), (('2018', '.'), 1), (('In', 'June'), 1), (('UK', 'and'), 1), (('and', 'the'), 1), (('EU', 'published'), 1), (('published', 'a'), 1), (('a', 'joint'), 1), (('joint', 'progress'), 1), (('progress', 'report'), 1), (('report', 'outlining'), 1), (('outlining', 'agreement'), 1), (('agreement', 'on'), 1), (('on', 'issues'), 1), (('issues', 'including'), 1), (('including', 'customs'), 1), (('customs', ','), 1), ((',', 'VAT'), 1), (('VAT', 'and'), 1), (('and', 'Euratom'), 1), (('Euratom', '.'), 1), (('The', 'UK'), 1), (('UK', 'joined'), 1), (('joined', 'the'), 1), (('Communities', '('), 1), (('(', 'EC'), 1), (('EC', ')'), 1), ((')', 'in'), 1), (('in', '1973'), 1), (('1973', ','), 1), ((',', 'with'), 1), (('with', 'membership'), 1), (('membership', 'confirmed'), 1), (('confirmed', 'by'), 1), (('by', 'a'), 1), (('in', '1975'), 1), (('1975', '.'), 1), (('In', 'the'), 1), (('the', '1970s'), 1), (('1970s', 'and'), 1), (('and', '1980s'), 1), (('1980s', ','), 1), ((',', 'withdrawal'), 1), (('withdrawal', 'from'), 1), (('the', 'EC'), 1), (('EC', 'was'), 1), (('was', 'advocated'), 1), (('advocated', 'mainly'), 1), (('mainly', 'by'), 1), (('by', 'Labour'), 1), (('Labour', 'Party'), 1), (('members', 'and'), 1), (('and', 'trade'), 1), (('trade', 'union'), 1), (('union', 'figures'), 1), (('figures', '.'), 1), (('.', 'From'), 1), (('From', 'the'), 1), (('the', '1990s'), 1), (('1990s', ','), 1), (('the', 'main'), 1), (('main', 'advocates'), 1), (('advocates', 'of'), 1), (('of', 'withdrawal'), 1), (('withdrawal', 'were'), 1), (('were', 'the'), 1), (('the', 'newly'), 1), (('newly', 'founded'), 1), (('founded', 'UK'), 1), (('UK', 'Independence'), 1), (('Independence', 'Party'), 1), (('Party', '('), 1), (('(', 'UKIP'), 1), (('UKIP', ')'), 1), ((')', 'and'), 1), (('and', 'an'), 1), (('an', 'increasing'), 1), (('increasing', 'number'), 1), (('number', 'of'), 1), (('of', 'Eurosceptic'), 1), (('Eurosceptic', 'Conservative'), 1), (('Conservative', 'Party'), 1), (('members', '.'), 1), (('.', 'Prime'), 1), (('Minister', 'David'), 1), (('David', 'Cameron'), 1), (('Cameron', 'held'), 1), (('held', 'the'), 1), (('in', 'fulfilment'), 1), (('fulfilment', 'of'), 1), (('of', 'a'), 1), (('a', '2015'), 1), (('2015', 'manifesto'), 1), (('manifesto', 'pledge'), 1), (('pledge', '.'), 1), (('.', 'Cameron'), 1), (('Cameron', ','), 1), (('who', 'had'), 1), (('had', 'campaigned'), 1), (('campaigned', 'for'), 1), (('for', '``'), 1), ((',', 'resigned'), 1), (('resigned', 'after'), 1), (('referendum', 'result'), 1), (('result', 'and'), 1), (('and', 'was'), 1), (('was', 'succeeded'), 1), (('succeeded', 'by'), 1), (('by', 'Theresa'), 1), (('May', ','), 1), (('who', 'called'), 1), (('called', 'a'), 1), (('a', 'snap'), 1), (('snap', 'general'), 1), (('general', 'election'), 1), (('election', 'less'), 1), (('less', 'than'), 1), (('than', 'a'), 1), (('a', 'year'), 1), (('year', 'later'), 1), (('later', ','), 1), ((',', 'in'), 1), (('in', 'which'), 1), (('which', 'she'), 1), (('she', 'lost'), 1), (('lost', 'her'), 1), (('her', 'overall'), 1), (('overall', 'majority'), 1), (('majority', '.'), 1), (('.', 'Her'), 1), (('Her', 'minority'), 1), (('minority', 'government'), 1), (('government', 'is'), 1), (('is', 'supported'), 1), (('supported', 'in'), 1), (('in', 'key'), 1), (('key', 'votes'), 1), (('votes', 'by'), 1), (('by', 'the'), 1), (('the', 'Democratic'), 1), (('Democratic', 'Unionist'), 1), (('Unionist', 'Party'), 1), (('Party', '.'), 1), (('Six', 'weeks'), 1), (('weeks', 'after'), 1), (('referendum', ','), 1), (('the', 'Bank'), 1), (('Bank', 'of'), 1), (('of', 'England'), 1), (('England', 'introduced'), 1), (('introduced', 'quantitative'), 1), (('quantitative', 'easing'), 1), (('easing', 'and'), 1), (('and', 'lower'), 1), (('lower', 'interest'), 1), (('interest', 'rates'), 1), (('rates', ','), 1), ((',', 'thus'), 1), (('thus', 'allowing'), 1), (('allowing', 'both'), 1), (('both', 'depreciation'), 1), (('depreciation', 'of'), 1), (('sterling', 'and'), 1), (('and', 'a'), 1), (('a', 'rise'), 1), (('rise', 'in'), 1), (('in', 'inflation'), 1), (('inflation', 'that'), 1), (('that', 'outpaced'), 1), (('outpaced', 'wage'), 1), (('wage', 'growth'), 1), (('growth', 'for'), 1), (('for', 'most'), 1), (('most', 'of'), 1), (('of', '2017'), 1), (('2017', '.'), 1), (('The', 'drop'), 1), (('drop', 'in'), 1), (('the', 'value'), 1), (('value', 'of'), 1), (('sterling', 'has'), 1), (('has', 'been'), 1), (('been', 'claimed'), 1), (('claimed', 'to'), 1), (('to', 'have'), 1), (('have', 'been'), 1), (('been', 'caused'), 1), (('caused', 'in'), 1), (('in', 'part'), 1), (('part', 'by'), 1), (('by', 'hedge-fund'), 1), (('hedge-fund', 'managers'), 1), (('managers', 'betting'), 1), (('betting', 'on'), 1), (('on', 'Brexit'), 1), (('Brexit', 'against'), 1), (('against', 'polls'), 1), (('polls', 'predicting'), 1), (('predicting', 'a'), 1), (('a', 'narrow'), 1), (('narrow', 'victory'), 1), (('victory', 'for'), 1), ((\"''\", 'camp'), 1), (('camp', '.'), 1), (('is', 'a'), 1), (('a', 'broad'), 1), (('broad', 'consensus'), 1), (('consensus', 'in'), 1), (('in', 'existing'), 1), (('existing', 'economic'), 1), (('economic', 'research'), 1), (('research', 'that'), 1), (('that', 'Brexit'), 1), (('reduce', 'the'), 1), ((\"'s\", 'real'), 1), (('real', 'per'), 1), (('per', 'capita'), 1), (('capita', 'income'), 1), (('income', 'in'), 1), (('the', 'medium'), 1), (('medium', 'term'), 1), (('term', 'and'), 1), (('and', 'long'), 1), (('long', 'term'), 1), (('term', '.'), 1), (('.', 'There'), 1), (('is', 'also'), 1), (('also', 'agreement'), 1), (('agreement', 'among'), 1), (('among', 'economists'), 1), (('economists', 'that'), 1), (('that', 'the'), 1), (('the', 'Brexit'), 1), (('Brexit', 'referendum'), 1), (('referendum', 'itself'), 1), (('itself', 'damaged'), 1), (('damaged', 'the'), 1), (('the', 'economy'), 1), (('economy', 'in'), 1), (('the', 'subsequent'), 1), (('subsequent', 'two'), 1), (('two', 'years'), 1), (('years', '.'), 1), (('.', 'Studies'), 1), (('Studies', 'on'), 1), (('on', 'effects'), 1), (('effects', 'that'), 1), (('that', 'have'), 1), (('have', 'materialised'), 1), (('materialised', 'since'), 1), (('since', 'the'), 1), (('referendum', 'show'), 1), (('show', 'annual'), 1), (('annual', 'losses'), 1), (('losses', 'of'), 1), (('of', '£404'), 1), (('£404', 'for'), 1), (('the', 'average'), 1), (('average', 'UK'), 1), (('UK', 'household'), 1), (('household', ','), 1), (('and', 'losses'), 1), (('losses', 'between'), 1), (('between', '1.3'), 1), (('1.3', '%'), 1), (('%', 'and'), 1), (('and', '2.1'), 1), (('2.1', '%'), 1), (('%', 'of'), 1), (('of', 'UK'), 1), (('UK', 'GDP'), 1), (('GDP', '.'), 1), (('.', 'Brexit'), 1), (('reduce', 'immigration'), 1), (('immigration', 'from'), 1), (('from', 'European'), 1), (('European', 'Economic'), 1), (('Economic', 'Area'), 1), (('Area', '('), 1), (('(', 'EEA'), 1), (('EEA', ')'), 1), ((')', 'countries'), 1), (('countries', 'to'), 1), (('to', 'the'), 1), (('UK', ','), 1), (('and', 'poses'), 1), (('poses', 'challenges'), 1), (('challenges', 'for'), 1), (('for', 'UK'), 1), (('UK', 'higher'), 1), (('higher', 'education'), 1), (('education', 'and'), 1), (('and', 'academic'), 1), (('academic', 'research'), 1), (('research', '.'), 1), (('.', 'As'), 1), (('As', 'of'), 1), (('of', 'June'), 1), (('the', 'size'), 1), (('size', 'of'), 1), (('``', 'divorce'), 1), (('divorce', 'bill'), 1), (('bill', \"''\"), 1), ((\"'s\", 'inheritance'), 1), (('inheritance', 'of'), 1), (('of', 'existing'), 1), (('existing', 'EU'), 1), (('EU', 'trade'), 1), (('trade', 'agreements'), 1), (('agreements', ','), 1), (('and', 'relations'), 1), (('relations', 'with'), 1), (('with', 'Ireland'), 1), (('Ireland', 'and'), 1), (('and', 'other'), 1), (('other', 'EU'), 1), (('EU', 'member'), 1), (('member', 'states'), 1), (('states', 'remain'), 1), (('remain', 'uncertain'), 1), (('uncertain', '.'), 1), (('The', 'precise'), 1), (('precise', 'impact'), 1), (('impact', 'on'), 1), (('on', 'the'), 1), (('UK', 'depends'), 1), (('depends', 'on'), 1), (('on', 'whether'), 1), (('whether', 'the'), 1), (('the', 'process'), 1), (('process', 'will'), 1), (('will', 'be'), 1), (('be', 'a'), 1), (('a', \"''\"), 1), ((\"''\", 'hard'), 1), (('hard', \"''\"), 1), ((\"''\", 'or'), 1), (('or', 'a'), 1), (('a', '``'), 1), (('``', 'soft'), 1), (('soft', \"''\"), 1), ((\"''\", 'Brexit'), 1), (('Brexit', '.'), 1)]\n",
      "[((',', 'the'), 7)]\n"
     ]
    }
   ],
   "source": [
    "#4 to find largest Bigrams\n",
    "#1 Max Occuring Bigrams - [((',', 'the'), 7)]\n",
    "from nltk.util import ngrams as ng\n",
    "from nltk import FreqDist as fd\n",
    "from nltk.tokenize import word_tokenize as wt\n",
    "\n",
    "def GetNGrams(string,n):\n",
    "    no_of_tokens = wt(string)\n",
    "    #print(no_of_tokens)\n",
    "    string_ngrams = list(ng(no_of_tokens,n))\n",
    "    return string_ngrams\n",
    "    #print(string_ngrams)\n",
    "\n",
    "no_of_para = len(doc.paragraphs)\n",
    "val = 2\n",
    "count_ngrams = int(val)\n",
    "l_b = []\n",
    "for x in range(no_of_para):\n",
    "    #print(\"Bigrams Para\", x+1)\n",
    "    return_l = GetNGrams(doc.paragraphs[x].text,count_ngrams)\n",
    "    l_b.append(return_l)\n",
    "#print(l_b)\n",
    "\n",
    "mylist = l_b\n",
    "from collections import Counter\n",
    "\n",
    "bigram_counts = Counter()\n",
    "for cell in mylist:\n",
    "    for bigram in cell:\n",
    "        bigram_counts[bigram] += 1\n",
    "\n",
    "print (bigram_counts.most_common(5))\n",
    "print (bigram_counts.most_common(1))"
   ]
  },
  {
   "cell_type": "code",
   "execution_count": null,
   "id": "f9a4b129-ff38-440c-9f57-83cca5fde16e",
   "metadata": {},
   "outputs": [],
   "source": []
  }
 ],
 "metadata": {
  "kernelspec": {
   "display_name": "Python 3 (ipykernel)",
   "language": "python",
   "name": "python3"
  },
  "language_info": {
   "codemirror_mode": {
    "name": "ipython",
    "version": 3
   },
   "file_extension": ".py",
   "mimetype": "text/x-python",
   "name": "python",
   "nbconvert_exporter": "python",
   "pygments_lexer": "ipython3",
   "version": "3.12.7"
  }
 },
 "nbformat": 4,
 "nbformat_minor": 5
}
